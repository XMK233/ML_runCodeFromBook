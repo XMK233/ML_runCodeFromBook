{
 "cells": [
  {
   "cell_type": "code",
   "execution_count": null,
   "id": "87297a88",
   "metadata": {},
   "outputs": [],
   "source": [
    "## https://huggingface.co/hfl/llama-3-chinese-8b\n",
    "## https://huggingface.co/hfl/llama-3-chinese-8b/tree/main"
   ]
  },
  {
   "cell_type": "code",
   "execution_count": 1,
   "id": "1b474668-055c-4666-9373-d4633d261380",
   "metadata": {},
   "outputs": [
    {
     "name": "stdout",
     "output_type": "stream",
     "text": [
      "storage dir: /Users/minkexiu/Downloads/GitHub/ML_runCodeFromBook/HuggingFace自然语言处理\n",
      "code dir: /Users/minkexiu/Documents/GitHub/ML_runCodeFromBook/HuggingFace自然语言处理\n"
     ]
    }
   ],
   "source": [
    "import random, os, tqdm, time, json\n",
    "import numpy as np\n",
    "import pandas as pd\n",
    "from matplotlib.font_manager import FontProperties\n",
    "import matplotlib.pyplot as plt\n",
    "\n",
    "import sys\n",
    "sys.path.append(\"../../../\")\n",
    "\n",
    "random.seed(618)\n",
    "np.random.seed(907)\n",
    "\n",
    "new_base_path = os.path.join(\n",
    "    \"/Users/minkexiu/Downloads/\",\n",
    "    \"/\".join(\n",
    "        os.getcwd().split(\"/\")[-1*(len(sys.path[-1].split(\"/\")) - 1):]\n",
    "    ),\n",
    ")\n",
    "print(\"storage dir:\", new_base_path)\n",
    "print(\"code dir:\", os.getcwd())\n",
    "\n",
    "## 创建文件夹。\n",
    "if not os.path.exists(new_base_path):\n",
    "    os.makedirs(\n",
    "        new_base_path\n",
    "    )\n",
    "if not os.path.exists(os.path.join(new_base_path, \"preprocessedData\")):\n",
    "    os.makedirs(\n",
    "        os.path.join(new_base_path, \"preprocessedData\")\n",
    "    )\n",
    "if not os.path.exists(os.path.join(new_base_path, \"originalData\")):\n",
    "    os.makedirs(\n",
    "        os.path.join(new_base_path, \"originalData\")\n",
    "    )\n",
    "if not os.path.exists(os.path.join(new_base_path, \"trained_models\")):\n",
    "    os.makedirs(\n",
    "        os.path.join(new_base_path, \"trained_models\")\n",
    "    )\n",
    "\n",
    "def create_originalData_path(filename_or_path):\n",
    "    return os.path.join(new_base_path, \"originalData\", filename_or_path)\n",
    "def create_preprocessedData_path(filename_or_path):\n",
    "    return os.path.join(new_base_path, \"preprocessedData\", filename_or_path)\n",
    "def create_trained_models_path(filename_or_path):\n",
    "    return os.path.join(new_base_path, \"trained_models\", filename_or_path)\n",
    "\n",
    "def millisec2datetime(timestamp):\n",
    "    time_local = time.localtime(timestamp/1000)\n",
    "    return time.strftime(\"%Y-%m-%d %H:%M:%S\", time_local)\n",
    "    \n",
    "def run_finish():\n",
    "    # 假设你的字体文件是 'myfont.ttf' 并且位于当前目录下  \n",
    "    font = FontProperties(fname=\"/Users/minkexiu/Documents/GitHub/ML_Tryout/SimHei.ttf\", size=24)  \n",
    "    # 创建一个空白的图形  \n",
    "    fig, ax = plt.subplots()  \n",
    "    ax.imshow(\n",
    "        plt.imread(\"/Users/minkexiu/Downloads/wallhaven-dgxpyg.jpg\")\n",
    "    )\n",
    "    # 在图形中添加文字  \n",
    "    ax.text(\n",
    "        ax.get_xlim()[1] * 0.5, \n",
    "        ax.get_ylim()[0] * 0.5, \n",
    "        f\"程序于这个点跑完：\\n{millisec2datetime(time.time()*1000)}\", fontproperties=font, ha=\"center\", va=\"center\", color=\"red\"\n",
    "    )  \n",
    "    # 设置图形的布局  \n",
    "    # ax.set_xlim(0, 1)  \n",
    "    # ax.set_ylim(0, 1)  \n",
    "    ax.set_xticks([])  \n",
    "    ax.set_yticks([])  \n",
    "    ax.patch.set_color(\"blue\")\n",
    "    # 显示图形  \n",
    "    plt.show()\n",
    "        \n",
    "tqdm.tqdm.pandas() ## 引入这个，就可以在apply的时候用progress_apply了。\n",
    "\n",
    "import IPython\n",
    "def kill_current_kernel():\n",
    "    '''杀死当前的kernel释放内存空间。'''\n",
    "    IPython.Application.instance().kernel.do_shutdown(True) \n",
    "    \n",
    "def simply_show_data(df1):\n",
    "    print(df1.shape)\n",
    "    display(df1.head())\n",
    "    \n",
    "def wait_flag(saved_flag_path, time_interval_sec=10):\n",
    "    print(\"waiting for\", saved_flag_path)\n",
    "    time_count = 0\n",
    "    while True:\n",
    "        if os.path.exists(saved_flag_path):\n",
    "            break\n",
    "        time.sleep(time_interval_sec)\n",
    "        time_count+=time_interval_sec\n",
    "        print(time_count, end=\" \")\n",
    "    print(\"finish!!\")"
   ]
  },
  {
   "cell_type": "code",
   "execution_count": null,
   "id": "f90307fd-3ced-4ab3-9a5e-20ea112650c5",
   "metadata": {},
   "outputs": [],
   "source": []
  },
  {
   "cell_type": "code",
   "execution_count": 4,
   "id": "dbf9dbbe",
   "metadata": {},
   "outputs": [
    {
     "data": {
      "application/vnd.jupyter.widget-view+json": {
       "model_id": "1f691c55e3d74a0093a80b227812dc06",
       "version_major": 2,
       "version_minor": 0
      },
      "text/plain": [
       "Downloading shards:   0%|          | 0/4 [00:00<?, ?it/s]"
      ]
     },
     "metadata": {},
     "output_type": "display_data"
    },
    {
     "data": {
      "application/vnd.jupyter.widget-view+json": {
       "model_id": "802f86988d6647e887641277ce7916f2",
       "version_major": 2,
       "version_minor": 0
      },
      "text/plain": [
       "model-00002-of-00004.safetensors:   0%|          | 0.00/5.00G [00:00<?, ?B/s]"
      ]
     },
     "metadata": {},
     "output_type": "display_data"
    },
    {
     "name": "stderr",
     "output_type": "stream",
     "text": [
      "Error while downloading from https://cdn-lfs-us-1.huggingface.co/repos/78/08/78088ba0cd2ae5322048a5de69cff85a44e3c0ab637f6708fd9f48eaa6624335/502323771ce6f0aaf6022e39e4ffdeb8bed40046636a09ae3d457e7719916b78?response-content-disposition=attachment%3B+filename*%3DUTF-8%27%27model-00002-of-00004.safetensors%3B+filename%3D%22model-00002-of-00004.safetensors%22%3B&Expires=1717333025&Policy=eyJTdGF0ZW1lbnQiOlt7IkNvbmRpdGlvbiI6eyJEYXRlTGVzc1RoYW4iOnsiQVdTOkVwb2NoVGltZSI6MTcxNzMzMzAyNX19LCJSZXNvdXJjZSI6Imh0dHBzOi8vY2RuLWxmcy11cy0xLmh1Z2dpbmdmYWNlLmNvL3JlcG9zLzc4LzA4Lzc4MDg4YmEwY2QyYWU1MzIyMDQ4YTVkZTY5Y2ZmODVhNDRlM2MwYWI2MzdmNjcwOGZkOWY0OGVhYTY2MjQzMzUvNTAyMzIzNzcxY2U2ZjBhYWY2MDIyZTM5ZTRmZmRlYjhiZWQ0MDA0NjYzNmEwOWFlM2Q0NTdlNzcxOTkxNmI3OD9yZXNwb25zZS1jb250ZW50LWRpc3Bvc2l0aW9uPSoifV19&Signature=LJdlCcjErqutTfvpMttMKF-HQfGlqtA6RHfFPhwdVPTpAGbxdOyhZmhYM19MPo3FC-ZUJUZIDi%7EJ3MW-6ZQq3wWETaApkIDUavFrg%7EAVT6LSzOS%7EKaxT0%7EnCSxO-op7W2neS00ZuQkq1zj3waxRFd%7E9hLdDk0%7EObX6Cf%7EnI-8ixFd9RXzq29AQWZknfn%7ELlbvdhUw7qxOiS8PRFNWAgGCLcH7nUQ6v8xjNrKoMdLpO2RaYuiRF0%7E3VyLpgpsZ-mV7J4eCJRBJ10Mw4emHXLm4UByZKy5OtnAUwN6uac3qvDAqUrHYUec924beeHdlvvYG9iJe0Gs6%7EPX8c7GDY3F3A__&Key-Pair-Id=KCD77M1F0VK2B: HTTPSConnectionPool(host='cdn-lfs-us-1.huggingface.co', port=443): Read timed out.\n",
      "Trying to resume download...\n"
     ]
    },
    {
     "data": {
      "application/vnd.jupyter.widget-view+json": {
       "model_id": "e05c73dda48e4aa3a8b8afe4318e6a79",
       "version_major": 2,
       "version_minor": 0
      },
      "text/plain": [
       "model-00002-of-00004.safetensors:   3%|3         | 157M/5.00G [00:00<?, ?B/s]"
      ]
     },
     "metadata": {},
     "output_type": "display_data"
    },
    {
     "data": {
      "application/vnd.jupyter.widget-view+json": {
       "model_id": "59fda6cac1794926b805d6cee47b70ec",
       "version_major": 2,
       "version_minor": 0
      },
      "text/plain": [
       "Downloading shards:   0%|          | 0/4 [00:00<?, ?it/s]"
      ]
     },
     "metadata": {},
     "output_type": "display_data"
    },
    {
     "data": {
      "application/vnd.jupyter.widget-view+json": {
       "model_id": "46682808bdea4f03b960a694ffec916b",
       "version_major": 2,
       "version_minor": 0
      },
      "text/plain": [
       "model-00002-of-00004.safetensors:   0%|          | 0.00/5.00G [00:00<?, ?B/s]"
      ]
     },
     "metadata": {},
     "output_type": "display_data"
    },
    {
     "name": "stderr",
     "output_type": "stream",
     "text": [
      "Error while downloading from https://cdn-lfs-us-1.huggingface.co/repos/78/08/78088ba0cd2ae5322048a5de69cff85a44e3c0ab637f6708fd9f48eaa6624335/502323771ce6f0aaf6022e39e4ffdeb8bed40046636a09ae3d457e7719916b78?response-content-disposition=attachment%3B+filename*%3DUTF-8%27%27model-00002-of-00004.safetensors%3B+filename%3D%22model-00002-of-00004.safetensors%22%3B&Expires=1717333657&Policy=eyJTdGF0ZW1lbnQiOlt7IkNvbmRpdGlvbiI6eyJEYXRlTGVzc1RoYW4iOnsiQVdTOkVwb2NoVGltZSI6MTcxNzMzMzY1N319LCJSZXNvdXJjZSI6Imh0dHBzOi8vY2RuLWxmcy11cy0xLmh1Z2dpbmdmYWNlLmNvL3JlcG9zLzc4LzA4Lzc4MDg4YmEwY2QyYWU1MzIyMDQ4YTVkZTY5Y2ZmODVhNDRlM2MwYWI2MzdmNjcwOGZkOWY0OGVhYTY2MjQzMzUvNTAyMzIzNzcxY2U2ZjBhYWY2MDIyZTM5ZTRmZmRlYjhiZWQ0MDA0NjYzNmEwOWFlM2Q0NTdlNzcxOTkxNmI3OD9yZXNwb25zZS1jb250ZW50LWRpc3Bvc2l0aW9uPSoifV19&Signature=N-Nkw%7EN-p3N9XJjQpwkTE7aReNQETYOMTOqMEQmg2Dxz9WMIT8hiL9Gts%7Eqo-3kzq3D2CHA0rqlk%7E9NVbgRupkhIArin59MVjTNmXIFs1KptK13eSGWlPzpB5CqADaLaj03xNzOLFlqbbB7nV2Rf%7E46mtFin1wtb9yDV4LgXsMNy5vDUCNGpURTzKC3P0WGLdc4IwnFYfRd0tyytioC4YZZWIg1-%7ENAdhAcZNpTsaAENXf81L0wu8rX994faLMjafqi-h-FchgEzEjajSlduYyw%7ESGKMvAqziIPyEYdjGnnK3kpiVLgM-YVzzPzrpfrAhXu2RpuwRzz-1c58i0XnXw__&Key-Pair-Id=KCD77M1F0VK2B: HTTPSConnectionPool(host='cdn-lfs-us-1.huggingface.co', port=443): Read timed out.\n",
      "Trying to resume download...\n"
     ]
    },
    {
     "data": {
      "application/vnd.jupyter.widget-view+json": {
       "model_id": "1f602523b1854fbca0cedf385423841a",
       "version_major": 2,
       "version_minor": 0
      },
      "text/plain": [
       "model-00002-of-00004.safetensors:   9%|9         | 451M/5.00G [00:00<?, ?B/s]"
      ]
     },
     "metadata": {},
     "output_type": "display_data"
    },
    {
     "name": "stderr",
     "output_type": "stream",
     "text": [
      "Error while downloading from https://cdn-lfs-us-1.huggingface.co/repos/78/08/78088ba0cd2ae5322048a5de69cff85a44e3c0ab637f6708fd9f48eaa6624335/502323771ce6f0aaf6022e39e4ffdeb8bed40046636a09ae3d457e7719916b78?response-content-disposition=attachment%3B+filename*%3DUTF-8%27%27model-00002-of-00004.safetensors%3B+filename%3D%22model-00002-of-00004.safetensors%22%3B&Expires=1717333657&Policy=eyJTdGF0ZW1lbnQiOlt7IkNvbmRpdGlvbiI6eyJEYXRlTGVzc1RoYW4iOnsiQVdTOkVwb2NoVGltZSI6MTcxNzMzMzY1N319LCJSZXNvdXJjZSI6Imh0dHBzOi8vY2RuLWxmcy11cy0xLmh1Z2dpbmdmYWNlLmNvL3JlcG9zLzc4LzA4Lzc4MDg4YmEwY2QyYWU1MzIyMDQ4YTVkZTY5Y2ZmODVhNDRlM2MwYWI2MzdmNjcwOGZkOWY0OGVhYTY2MjQzMzUvNTAyMzIzNzcxY2U2ZjBhYWY2MDIyZTM5ZTRmZmRlYjhiZWQ0MDA0NjYzNmEwOWFlM2Q0NTdlNzcxOTkxNmI3OD9yZXNwb25zZS1jb250ZW50LWRpc3Bvc2l0aW9uPSoifV19&Signature=N-Nkw%7EN-p3N9XJjQpwkTE7aReNQETYOMTOqMEQmg2Dxz9WMIT8hiL9Gts%7Eqo-3kzq3D2CHA0rqlk%7E9NVbgRupkhIArin59MVjTNmXIFs1KptK13eSGWlPzpB5CqADaLaj03xNzOLFlqbbB7nV2Rf%7E46mtFin1wtb9yDV4LgXsMNy5vDUCNGpURTzKC3P0WGLdc4IwnFYfRd0tyytioC4YZZWIg1-%7ENAdhAcZNpTsaAENXf81L0wu8rX994faLMjafqi-h-FchgEzEjajSlduYyw%7ESGKMvAqziIPyEYdjGnnK3kpiVLgM-YVzzPzrpfrAhXu2RpuwRzz-1c58i0XnXw__&Key-Pair-Id=KCD77M1F0VK2B: HTTPSConnectionPool(host='cdn-lfs-us-1.huggingface.co', port=443): Read timed out.\n",
      "Trying to resume download...\n"
     ]
    },
    {
     "data": {
      "application/vnd.jupyter.widget-view+json": {
       "model_id": "304aaabb35c14771b8717a87b9c966ce",
       "version_major": 2,
       "version_minor": 0
      },
      "text/plain": [
       "model-00002-of-00004.safetensors:  15%|#5        | 765M/5.00G [00:00<?, ?B/s]"
      ]
     },
     "metadata": {},
     "output_type": "display_data"
    },
    {
     "name": "stderr",
     "output_type": "stream",
     "text": [
      "Error while downloading from https://cdn-lfs-us-1.huggingface.co/repos/78/08/78088ba0cd2ae5322048a5de69cff85a44e3c0ab637f6708fd9f48eaa6624335/502323771ce6f0aaf6022e39e4ffdeb8bed40046636a09ae3d457e7719916b78?response-content-disposition=attachment%3B+filename*%3DUTF-8%27%27model-00002-of-00004.safetensors%3B+filename%3D%22model-00002-of-00004.safetensors%22%3B&Expires=1717333657&Policy=eyJTdGF0ZW1lbnQiOlt7IkNvbmRpdGlvbiI6eyJEYXRlTGVzc1RoYW4iOnsiQVdTOkVwb2NoVGltZSI6MTcxNzMzMzY1N319LCJSZXNvdXJjZSI6Imh0dHBzOi8vY2RuLWxmcy11cy0xLmh1Z2dpbmdmYWNlLmNvL3JlcG9zLzc4LzA4Lzc4MDg4YmEwY2QyYWU1MzIyMDQ4YTVkZTY5Y2ZmODVhNDRlM2MwYWI2MzdmNjcwOGZkOWY0OGVhYTY2MjQzMzUvNTAyMzIzNzcxY2U2ZjBhYWY2MDIyZTM5ZTRmZmRlYjhiZWQ0MDA0NjYzNmEwOWFlM2Q0NTdlNzcxOTkxNmI3OD9yZXNwb25zZS1jb250ZW50LWRpc3Bvc2l0aW9uPSoifV19&Signature=N-Nkw%7EN-p3N9XJjQpwkTE7aReNQETYOMTOqMEQmg2Dxz9WMIT8hiL9Gts%7Eqo-3kzq3D2CHA0rqlk%7E9NVbgRupkhIArin59MVjTNmXIFs1KptK13eSGWlPzpB5CqADaLaj03xNzOLFlqbbB7nV2Rf%7E46mtFin1wtb9yDV4LgXsMNy5vDUCNGpURTzKC3P0WGLdc4IwnFYfRd0tyytioC4YZZWIg1-%7ENAdhAcZNpTsaAENXf81L0wu8rX994faLMjafqi-h-FchgEzEjajSlduYyw%7ESGKMvAqziIPyEYdjGnnK3kpiVLgM-YVzzPzrpfrAhXu2RpuwRzz-1c58i0XnXw__&Key-Pair-Id=KCD77M1F0VK2B: HTTPSConnectionPool(host='cdn-lfs-us-1.huggingface.co', port=443): Read timed out.\n",
      "Trying to resume download...\n"
     ]
    },
    {
     "data": {
      "application/vnd.jupyter.widget-view+json": {
       "model_id": "cc5d0c5230324f049689f94c446aabf6",
       "version_major": 2,
       "version_minor": 0
      },
      "text/plain": [
       "model-00002-of-00004.safetensors:  18%|#7        | 891M/5.00G [00:00<?, ?B/s]"
      ]
     },
     "metadata": {},
     "output_type": "display_data"
    },
    {
     "ename": "ValueError",
     "evalue": "Could not load model hfl/llama-3-chinese-8b with any of the following classes: (<class 'transformers.models.auto.modeling_auto.AutoModelForCausalLM'>, <class 'transformers.models.llama.modeling_llama.LlamaForCausalLM'>). See the original errors:\n\nwhile loading with AutoModelForCausalLM, an error is thrown:\nTraceback (most recent call last):\n  File \"/opt/anaconda3/envs/ml12/lib/python3.12/site-packages/urllib3/response.py\", line 737, in _error_catcher\n    yield\n  File \"/opt/anaconda3/envs/ml12/lib/python3.12/site-packages/urllib3/response.py\", line 862, in _raw_read\n    data = self._fp_read(amt, read1=read1) if not fp_closed else b\"\"\n           ^^^^^^^^^^^^^^^^^^^^^^^^^^^^^^^\n  File \"/opt/anaconda3/envs/ml12/lib/python3.12/site-packages/urllib3/response.py\", line 845, in _fp_read\n    return self._fp.read(amt) if amt is not None else self._fp.read()\n           ^^^^^^^^^^^^^^^^^^\n  File \"/opt/anaconda3/envs/ml12/lib/python3.12/http/client.py\", line 472, in read\n    s = self.fp.read(amt)\n        ^^^^^^^^^^^^^^^^^\n  File \"/opt/anaconda3/envs/ml12/lib/python3.12/socket.py\", line 707, in readinto\n    return self._sock.recv_into(b)\n           ^^^^^^^^^^^^^^^^^^^^^^^\n  File \"/opt/anaconda3/envs/ml12/lib/python3.12/ssl.py\", line 1249, in recv_into\n    return self.read(nbytes, buffer)\n           ^^^^^^^^^^^^^^^^^^^^^^^^^\n  File \"/opt/anaconda3/envs/ml12/lib/python3.12/ssl.py\", line 1105, in read\n    return self._sslobj.read(len, buffer)\n           ^^^^^^^^^^^^^^^^^^^^^^^^^^^^^^\nTimeoutError: The read operation timed out\n\nThe above exception was the direct cause of the following exception:\n\nTraceback (most recent call last):\n  File \"/opt/anaconda3/envs/ml12/lib/python3.12/site-packages/requests/models.py\", line 816, in generate\n    yield from self.raw.stream(chunk_size, decode_content=True)\n  File \"/opt/anaconda3/envs/ml12/lib/python3.12/site-packages/urllib3/response.py\", line 1043, in stream\n    data = self.read(amt=amt, decode_content=decode_content)\n           ^^^^^^^^^^^^^^^^^^^^^^^^^^^^^^^^^^^^^^^^^^^^^^^^^\n  File \"/opt/anaconda3/envs/ml12/lib/python3.12/site-packages/urllib3/response.py\", line 935, in read\n    data = self._raw_read(amt)\n           ^^^^^^^^^^^^^^^^^^^\n  File \"/opt/anaconda3/envs/ml12/lib/python3.12/site-packages/urllib3/response.py\", line 861, in _raw_read\n    with self._error_catcher():\n  File \"/opt/anaconda3/envs/ml12/lib/python3.12/contextlib.py\", line 155, in __exit__\n    self.gen.throw(value)\n  File \"/opt/anaconda3/envs/ml12/lib/python3.12/site-packages/urllib3/response.py\", line 742, in _error_catcher\n    raise ReadTimeoutError(self._pool, None, \"Read timed out.\") from e  # type: ignore[arg-type]\n    ^^^^^^^^^^^^^^^^^^^^^^^^^^^^^^^^^^^^^^^^^^^^^^^^^^^^^^^^^^^^^^^^^^\nurllib3.exceptions.ReadTimeoutError: HTTPSConnectionPool(host='cdn-lfs-us-1.huggingface.co', port=443): Read timed out.\n\nDuring handling of the above exception, another exception occurred:\n\nTraceback (most recent call last):\n  File \"/opt/anaconda3/envs/ml12/lib/python3.12/site-packages/huggingface_hub/file_download.py\", line 535, in http_get\n    for chunk in r.iter_content(chunk_size=DOWNLOAD_CHUNK_SIZE):\n  File \"/opt/anaconda3/envs/ml12/lib/python3.12/site-packages/requests/models.py\", line 822, in generate\n    raise ConnectionError(e)\nrequests.exceptions.ConnectionError: HTTPSConnectionPool(host='cdn-lfs-us-1.huggingface.co', port=443): Read timed out.\n\nDuring handling of the above exception, another exception occurred:\n\nTraceback (most recent call last):\n  File \"/opt/anaconda3/envs/ml12/lib/python3.12/site-packages/urllib3/response.py\", line 737, in _error_catcher\n    yield\n  File \"/opt/anaconda3/envs/ml12/lib/python3.12/site-packages/urllib3/response.py\", line 883, in _raw_read\n    raise IncompleteRead(self._fp_bytes_read, self.length_remaining)\nurllib3.exceptions.IncompleteRead: IncompleteRead(223465610 bytes read, 4619050710 more expected)\n\nThe above exception was the direct cause of the following exception:\n\nTraceback (most recent call last):\n  File \"/opt/anaconda3/envs/ml12/lib/python3.12/site-packages/requests/models.py\", line 816, in generate\n    yield from self.raw.stream(chunk_size, decode_content=True)\n  File \"/opt/anaconda3/envs/ml12/lib/python3.12/site-packages/urllib3/response.py\", line 1043, in stream\n    data = self.read(amt=amt, decode_content=decode_content)\n           ^^^^^^^^^^^^^^^^^^^^^^^^^^^^^^^^^^^^^^^^^^^^^^^^^\n  File \"/opt/anaconda3/envs/ml12/lib/python3.12/site-packages/urllib3/response.py\", line 963, in read\n    data = self._raw_read(amt)\n           ^^^^^^^^^^^^^^^^^^^\n  File \"/opt/anaconda3/envs/ml12/lib/python3.12/site-packages/urllib3/response.py\", line 861, in _raw_read\n    with self._error_catcher():\n  File \"/opt/anaconda3/envs/ml12/lib/python3.12/contextlib.py\", line 155, in __exit__\n    self.gen.throw(value)\n  File \"/opt/anaconda3/envs/ml12/lib/python3.12/site-packages/urllib3/response.py\", line 761, in _error_catcher\n    raise ProtocolError(arg, e) from e\nurllib3.exceptions.ProtocolError: ('Connection broken: IncompleteRead(223465610 bytes read, 4619050710 more expected)', IncompleteRead(223465610 bytes read, 4619050710 more expected))\n\nDuring handling of the above exception, another exception occurred:\n\nTraceback (most recent call last):\n  File \"/opt/anaconda3/envs/ml12/lib/python3.12/site-packages/transformers/pipelines/base.py\", line 283, in infer_framework_load_model\n    model = model_class.from_pretrained(model, **kwargs)\n            ^^^^^^^^^^^^^^^^^^^^^^^^^^^^^^^^^^^^^^^^^^^^\n  File \"/opt/anaconda3/envs/ml12/lib/python3.12/site-packages/transformers/models/auto/auto_factory.py\", line 563, in from_pretrained\n    return model_class.from_pretrained(\n           ^^^^^^^^^^^^^^^^^^^^^^^^^^^^\n  File \"/opt/anaconda3/envs/ml12/lib/python3.12/site-packages/transformers/modeling_utils.py\", line 3436, in from_pretrained\n    resolved_archive_file, sharded_metadata = get_checkpoint_shard_files(\n                                              ^^^^^^^^^^^^^^^^^^^^^^^^^^^\n  File \"/opt/anaconda3/envs/ml12/lib/python3.12/site-packages/transformers/utils/hub.py\", line 1038, in get_checkpoint_shard_files\n    cached_filename = cached_file(\n                      ^^^^^^^^^^^^\n  File \"/opt/anaconda3/envs/ml12/lib/python3.12/site-packages/transformers/utils/hub.py\", line 398, in cached_file\n    resolved_file = hf_hub_download(\n                    ^^^^^^^^^^^^^^^^\n  File \"/opt/anaconda3/envs/ml12/lib/python3.12/site-packages/huggingface_hub/utils/_validators.py\", line 119, in _inner_fn\n    return fn(*args, **kwargs)\n           ^^^^^^^^^^^^^^^^^^^\n  File \"/opt/anaconda3/envs/ml12/lib/python3.12/site-packages/huggingface_hub/file_download.py\", line 1492, in hf_hub_download\n    http_get(\n  File \"/opt/anaconda3/envs/ml12/lib/python3.12/site-packages/huggingface_hub/file_download.py\", line 552, in http_get\n    return http_get(\n           ^^^^^^^^^\n  File \"/opt/anaconda3/envs/ml12/lib/python3.12/site-packages/huggingface_hub/file_download.py\", line 535, in http_get\n    for chunk in r.iter_content(chunk_size=DOWNLOAD_CHUNK_SIZE):\n  File \"/opt/anaconda3/envs/ml12/lib/python3.12/site-packages/requests/models.py\", line 818, in generate\n    raise ChunkedEncodingError(e)\nrequests.exceptions.ChunkedEncodingError: ('Connection broken: IncompleteRead(223465610 bytes read, 4619050710 more expected)', IncompleteRead(223465610 bytes read, 4619050710 more expected))\n\nwhile loading with LlamaForCausalLM, an error is thrown:\nTraceback (most recent call last):\n  File \"/opt/anaconda3/envs/ml12/lib/python3.12/site-packages/urllib3/response.py\", line 737, in _error_catcher\n    yield\n  File \"/opt/anaconda3/envs/ml12/lib/python3.12/site-packages/urllib3/response.py\", line 862, in _raw_read\n    data = self._fp_read(amt, read1=read1) if not fp_closed else b\"\"\n           ^^^^^^^^^^^^^^^^^^^^^^^^^^^^^^^\n  File \"/opt/anaconda3/envs/ml12/lib/python3.12/site-packages/urllib3/response.py\", line 845, in _fp_read\n    return self._fp.read(amt) if amt is not None else self._fp.read()\n           ^^^^^^^^^^^^^^^^^^\n  File \"/opt/anaconda3/envs/ml12/lib/python3.12/http/client.py\", line 472, in read\n    s = self.fp.read(amt)\n        ^^^^^^^^^^^^^^^^^\n  File \"/opt/anaconda3/envs/ml12/lib/python3.12/socket.py\", line 707, in readinto\n    return self._sock.recv_into(b)\n           ^^^^^^^^^^^^^^^^^^^^^^^\n  File \"/opt/anaconda3/envs/ml12/lib/python3.12/ssl.py\", line 1249, in recv_into\n    return self.read(nbytes, buffer)\n           ^^^^^^^^^^^^^^^^^^^^^^^^^\n  File \"/opt/anaconda3/envs/ml12/lib/python3.12/ssl.py\", line 1105, in read\n    return self._sslobj.read(len, buffer)\n           ^^^^^^^^^^^^^^^^^^^^^^^^^^^^^^\nTimeoutError: The read operation timed out\n\nThe above exception was the direct cause of the following exception:\n\nTraceback (most recent call last):\n  File \"/opt/anaconda3/envs/ml12/lib/python3.12/site-packages/requests/models.py\", line 816, in generate\n    yield from self.raw.stream(chunk_size, decode_content=True)\n  File \"/opt/anaconda3/envs/ml12/lib/python3.12/site-packages/urllib3/response.py\", line 1043, in stream\n    data = self.read(amt=amt, decode_content=decode_content)\n           ^^^^^^^^^^^^^^^^^^^^^^^^^^^^^^^^^^^^^^^^^^^^^^^^^\n  File \"/opt/anaconda3/envs/ml12/lib/python3.12/site-packages/urllib3/response.py\", line 935, in read\n    data = self._raw_read(amt)\n           ^^^^^^^^^^^^^^^^^^^\n  File \"/opt/anaconda3/envs/ml12/lib/python3.12/site-packages/urllib3/response.py\", line 861, in _raw_read\n    with self._error_catcher():\n  File \"/opt/anaconda3/envs/ml12/lib/python3.12/contextlib.py\", line 155, in __exit__\n    self.gen.throw(value)\n  File \"/opt/anaconda3/envs/ml12/lib/python3.12/site-packages/urllib3/response.py\", line 742, in _error_catcher\n    raise ReadTimeoutError(self._pool, None, \"Read timed out.\") from e  # type: ignore[arg-type]\n    ^^^^^^^^^^^^^^^^^^^^^^^^^^^^^^^^^^^^^^^^^^^^^^^^^^^^^^^^^^^^^^^^^^\nurllib3.exceptions.ReadTimeoutError: HTTPSConnectionPool(host='cdn-lfs-us-1.huggingface.co', port=443): Read timed out.\n\nDuring handling of the above exception, another exception occurred:\n\nTraceback (most recent call last):\n  File \"/opt/anaconda3/envs/ml12/lib/python3.12/site-packages/huggingface_hub/file_download.py\", line 535, in http_get\n    for chunk in r.iter_content(chunk_size=DOWNLOAD_CHUNK_SIZE):\n  File \"/opt/anaconda3/envs/ml12/lib/python3.12/site-packages/requests/models.py\", line 822, in generate\n    raise ConnectionError(e)\nrequests.exceptions.ConnectionError: HTTPSConnectionPool(host='cdn-lfs-us-1.huggingface.co', port=443): Read timed out.\n\nDuring handling of the above exception, another exception occurred:\n\nTraceback (most recent call last):\n  File \"/opt/anaconda3/envs/ml12/lib/python3.12/site-packages/urllib3/response.py\", line 737, in _error_catcher\n    yield\n  File \"/opt/anaconda3/envs/ml12/lib/python3.12/site-packages/urllib3/response.py\", line 862, in _raw_read\n    data = self._fp_read(amt, read1=read1) if not fp_closed else b\"\"\n           ^^^^^^^^^^^^^^^^^^^^^^^^^^^^^^^\n  File \"/opt/anaconda3/envs/ml12/lib/python3.12/site-packages/urllib3/response.py\", line 845, in _fp_read\n    return self._fp.read(amt) if amt is not None else self._fp.read()\n           ^^^^^^^^^^^^^^^^^^\n  File \"/opt/anaconda3/envs/ml12/lib/python3.12/http/client.py\", line 472, in read\n    s = self.fp.read(amt)\n        ^^^^^^^^^^^^^^^^^\n  File \"/opt/anaconda3/envs/ml12/lib/python3.12/socket.py\", line 707, in readinto\n    return self._sock.recv_into(b)\n           ^^^^^^^^^^^^^^^^^^^^^^^\n  File \"/opt/anaconda3/envs/ml12/lib/python3.12/ssl.py\", line 1249, in recv_into\n    return self.read(nbytes, buffer)\n           ^^^^^^^^^^^^^^^^^^^^^^^^^\n  File \"/opt/anaconda3/envs/ml12/lib/python3.12/ssl.py\", line 1105, in read\n    return self._sslobj.read(len, buffer)\n           ^^^^^^^^^^^^^^^^^^^^^^^^^^^^^^\nTimeoutError: The read operation timed out\n\nThe above exception was the direct cause of the following exception:\n\nTraceback (most recent call last):\n  File \"/opt/anaconda3/envs/ml12/lib/python3.12/site-packages/requests/models.py\", line 816, in generate\n    yield from self.raw.stream(chunk_size, decode_content=True)\n  File \"/opt/anaconda3/envs/ml12/lib/python3.12/site-packages/urllib3/response.py\", line 1043, in stream\n    data = self.read(amt=amt, decode_content=decode_content)\n           ^^^^^^^^^^^^^^^^^^^^^^^^^^^^^^^^^^^^^^^^^^^^^^^^^\n  File \"/opt/anaconda3/envs/ml12/lib/python3.12/site-packages/urllib3/response.py\", line 935, in read\n    data = self._raw_read(amt)\n           ^^^^^^^^^^^^^^^^^^^\n  File \"/opt/anaconda3/envs/ml12/lib/python3.12/site-packages/urllib3/response.py\", line 861, in _raw_read\n    with self._error_catcher():\n  File \"/opt/anaconda3/envs/ml12/lib/python3.12/contextlib.py\", line 155, in __exit__\n    self.gen.throw(value)\n  File \"/opt/anaconda3/envs/ml12/lib/python3.12/site-packages/urllib3/response.py\", line 742, in _error_catcher\n    raise ReadTimeoutError(self._pool, None, \"Read timed out.\") from e  # type: ignore[arg-type]\n    ^^^^^^^^^^^^^^^^^^^^^^^^^^^^^^^^^^^^^^^^^^^^^^^^^^^^^^^^^^^^^^^^^^\nurllib3.exceptions.ReadTimeoutError: HTTPSConnectionPool(host='cdn-lfs-us-1.huggingface.co', port=443): Read timed out.\n\nDuring handling of the above exception, another exception occurred:\n\nTraceback (most recent call last):\n  File \"/opt/anaconda3/envs/ml12/lib/python3.12/site-packages/huggingface_hub/file_download.py\", line 535, in http_get\n    for chunk in r.iter_content(chunk_size=DOWNLOAD_CHUNK_SIZE):\n  File \"/opt/anaconda3/envs/ml12/lib/python3.12/site-packages/requests/models.py\", line 822, in generate\n    raise ConnectionError(e)\nrequests.exceptions.ConnectionError: HTTPSConnectionPool(host='cdn-lfs-us-1.huggingface.co', port=443): Read timed out.\n\nDuring handling of the above exception, another exception occurred:\n\nTraceback (most recent call last):\n  File \"/opt/anaconda3/envs/ml12/lib/python3.12/site-packages/urllib3/response.py\", line 737, in _error_catcher\n    yield\n  File \"/opt/anaconda3/envs/ml12/lib/python3.12/site-packages/urllib3/response.py\", line 862, in _raw_read\n    data = self._fp_read(amt, read1=read1) if not fp_closed else b\"\"\n           ^^^^^^^^^^^^^^^^^^^^^^^^^^^^^^^\n  File \"/opt/anaconda3/envs/ml12/lib/python3.12/site-packages/urllib3/response.py\", line 845, in _fp_read\n    return self._fp.read(amt) if amt is not None else self._fp.read()\n           ^^^^^^^^^^^^^^^^^^\n  File \"/opt/anaconda3/envs/ml12/lib/python3.12/http/client.py\", line 472, in read\n    s = self.fp.read(amt)\n        ^^^^^^^^^^^^^^^^^\n  File \"/opt/anaconda3/envs/ml12/lib/python3.12/socket.py\", line 707, in readinto\n    return self._sock.recv_into(b)\n           ^^^^^^^^^^^^^^^^^^^^^^^\n  File \"/opt/anaconda3/envs/ml12/lib/python3.12/ssl.py\", line 1249, in recv_into\n    return self.read(nbytes, buffer)\n           ^^^^^^^^^^^^^^^^^^^^^^^^^\n  File \"/opt/anaconda3/envs/ml12/lib/python3.12/ssl.py\", line 1105, in read\n    return self._sslobj.read(len, buffer)\n           ^^^^^^^^^^^^^^^^^^^^^^^^^^^^^^\nTimeoutError: The read operation timed out\n\nThe above exception was the direct cause of the following exception:\n\nTraceback (most recent call last):\n  File \"/opt/anaconda3/envs/ml12/lib/python3.12/site-packages/requests/models.py\", line 816, in generate\n    yield from self.raw.stream(chunk_size, decode_content=True)\n  File \"/opt/anaconda3/envs/ml12/lib/python3.12/site-packages/urllib3/response.py\", line 1043, in stream\n    data = self.read(amt=amt, decode_content=decode_content)\n           ^^^^^^^^^^^^^^^^^^^^^^^^^^^^^^^^^^^^^^^^^^^^^^^^^\n  File \"/opt/anaconda3/envs/ml12/lib/python3.12/site-packages/urllib3/response.py\", line 935, in read\n    data = self._raw_read(amt)\n           ^^^^^^^^^^^^^^^^^^^\n  File \"/opt/anaconda3/envs/ml12/lib/python3.12/site-packages/urllib3/response.py\", line 861, in _raw_read\n    with self._error_catcher():\n  File \"/opt/anaconda3/envs/ml12/lib/python3.12/contextlib.py\", line 155, in __exit__\n    self.gen.throw(value)\n  File \"/opt/anaconda3/envs/ml12/lib/python3.12/site-packages/urllib3/response.py\", line 742, in _error_catcher\n    raise ReadTimeoutError(self._pool, None, \"Read timed out.\") from e  # type: ignore[arg-type]\n    ^^^^^^^^^^^^^^^^^^^^^^^^^^^^^^^^^^^^^^^^^^^^^^^^^^^^^^^^^^^^^^^^^^\nurllib3.exceptions.ReadTimeoutError: HTTPSConnectionPool(host='cdn-lfs-us-1.huggingface.co', port=443): Read timed out.\n\nDuring handling of the above exception, another exception occurred:\n\nTraceback (most recent call last):\n  File \"/opt/anaconda3/envs/ml12/lib/python3.12/site-packages/huggingface_hub/file_download.py\", line 535, in http_get\n    for chunk in r.iter_content(chunk_size=DOWNLOAD_CHUNK_SIZE):\n  File \"/opt/anaconda3/envs/ml12/lib/python3.12/site-packages/requests/models.py\", line 822, in generate\n    raise ConnectionError(e)\nrequests.exceptions.ConnectionError: HTTPSConnectionPool(host='cdn-lfs-us-1.huggingface.co', port=443): Read timed out.\n\nDuring handling of the above exception, another exception occurred:\n\nTraceback (most recent call last):\n  File \"/opt/anaconda3/envs/ml12/lib/python3.12/site-packages/urllib3/response.py\", line 737, in _error_catcher\n    yield\n  File \"/opt/anaconda3/envs/ml12/lib/python3.12/site-packages/urllib3/response.py\", line 883, in _raw_read\n    raise IncompleteRead(self._fp_bytes_read, self.length_remaining)\nurllib3.exceptions.IncompleteRead: IncompleteRead(179882745 bytes read, 3928630375 more expected)\n\nThe above exception was the direct cause of the following exception:\n\nTraceback (most recent call last):\n  File \"/opt/anaconda3/envs/ml12/lib/python3.12/site-packages/requests/models.py\", line 816, in generate\n    yield from self.raw.stream(chunk_size, decode_content=True)\n  File \"/opt/anaconda3/envs/ml12/lib/python3.12/site-packages/urllib3/response.py\", line 1043, in stream\n    data = self.read(amt=amt, decode_content=decode_content)\n           ^^^^^^^^^^^^^^^^^^^^^^^^^^^^^^^^^^^^^^^^^^^^^^^^^\n  File \"/opt/anaconda3/envs/ml12/lib/python3.12/site-packages/urllib3/response.py\", line 963, in read\n    data = self._raw_read(amt)\n           ^^^^^^^^^^^^^^^^^^^\n  File \"/opt/anaconda3/envs/ml12/lib/python3.12/site-packages/urllib3/response.py\", line 861, in _raw_read\n    with self._error_catcher():\n  File \"/opt/anaconda3/envs/ml12/lib/python3.12/contextlib.py\", line 155, in __exit__\n    self.gen.throw(value)\n  File \"/opt/anaconda3/envs/ml12/lib/python3.12/site-packages/urllib3/response.py\", line 761, in _error_catcher\n    raise ProtocolError(arg, e) from e\nurllib3.exceptions.ProtocolError: ('Connection broken: IncompleteRead(179882745 bytes read, 3928630375 more expected)', IncompleteRead(179882745 bytes read, 3928630375 more expected))\n\nDuring handling of the above exception, another exception occurred:\n\nTraceback (most recent call last):\n  File \"/opt/anaconda3/envs/ml12/lib/python3.12/site-packages/transformers/pipelines/base.py\", line 283, in infer_framework_load_model\n    model = model_class.from_pretrained(model, **kwargs)\n            ^^^^^^^^^^^^^^^^^^^^^^^^^^^^^^^^^^^^^^^^^^^^\n  File \"/opt/anaconda3/envs/ml12/lib/python3.12/site-packages/transformers/modeling_utils.py\", line 3436, in from_pretrained\n    resolved_archive_file, sharded_metadata = get_checkpoint_shard_files(\n                                              ^^^^^^^^^^^^^^^^^^^^^^^^^^^\n  File \"/opt/anaconda3/envs/ml12/lib/python3.12/site-packages/transformers/utils/hub.py\", line 1038, in get_checkpoint_shard_files\n    cached_filename = cached_file(\n                      ^^^^^^^^^^^^\n  File \"/opt/anaconda3/envs/ml12/lib/python3.12/site-packages/transformers/utils/hub.py\", line 398, in cached_file\n    resolved_file = hf_hub_download(\n                    ^^^^^^^^^^^^^^^^\n  File \"/opt/anaconda3/envs/ml12/lib/python3.12/site-packages/huggingface_hub/utils/_validators.py\", line 119, in _inner_fn\n    return fn(*args, **kwargs)\n           ^^^^^^^^^^^^^^^^^^^\n  File \"/opt/anaconda3/envs/ml12/lib/python3.12/site-packages/huggingface_hub/file_download.py\", line 1492, in hf_hub_download\n    http_get(\n  File \"/opt/anaconda3/envs/ml12/lib/python3.12/site-packages/huggingface_hub/file_download.py\", line 552, in http_get\n    return http_get(\n           ^^^^^^^^^\n  File \"/opt/anaconda3/envs/ml12/lib/python3.12/site-packages/huggingface_hub/file_download.py\", line 552, in http_get\n    return http_get(\n           ^^^^^^^^^\n  File \"/opt/anaconda3/envs/ml12/lib/python3.12/site-packages/huggingface_hub/file_download.py\", line 552, in http_get\n    return http_get(\n           ^^^^^^^^^\n  File \"/opt/anaconda3/envs/ml12/lib/python3.12/site-packages/huggingface_hub/file_download.py\", line 535, in http_get\n    for chunk in r.iter_content(chunk_size=DOWNLOAD_CHUNK_SIZE):\n  File \"/opt/anaconda3/envs/ml12/lib/python3.12/site-packages/requests/models.py\", line 818, in generate\n    raise ChunkedEncodingError(e)\nrequests.exceptions.ChunkedEncodingError: ('Connection broken: IncompleteRead(179882745 bytes read, 3928630375 more expected)', IncompleteRead(179882745 bytes read, 3928630375 more expected))\n\n\n",
     "output_type": "error",
     "traceback": [
      "\u001b[0;31m---------------------------------------------------------------------------\u001b[0m",
      "\u001b[0;31mValueError\u001b[0m                                Traceback (most recent call last)",
      "Cell \u001b[0;32mIn[4], line 4\u001b[0m\n\u001b[1;32m      1\u001b[0m \u001b[38;5;66;03m# Use a pipeline as a high-level helper\u001b[39;00m\n\u001b[1;32m      2\u001b[0m \u001b[38;5;28;01mfrom\u001b[39;00m \u001b[38;5;21;01mtransformers\u001b[39;00m \u001b[38;5;28;01mimport\u001b[39;00m pipeline\n\u001b[0;32m----> 4\u001b[0m pipe \u001b[38;5;241m=\u001b[39m \u001b[43mpipeline\u001b[49m\u001b[43m(\u001b[49m\u001b[38;5;124;43m\"\u001b[39;49m\u001b[38;5;124;43mtext-generation\u001b[39;49m\u001b[38;5;124;43m\"\u001b[39;49m\u001b[43m,\u001b[49m\u001b[43m \u001b[49m\u001b[43mmodel\u001b[49m\u001b[38;5;241;43m=\u001b[39;49m\u001b[38;5;124;43m\"\u001b[39;49m\u001b[38;5;124;43mhfl/llama-3-chinese-8b\u001b[39;49m\u001b[38;5;124;43m\"\u001b[39;49m\u001b[43m,\u001b[49m\u001b[43m \u001b[49m\u001b[43mcache_dir\u001b[49m\u001b[43m \u001b[49m\u001b[38;5;241;43m=\u001b[39;49m\u001b[43m \u001b[49m\u001b[43mcreate_originalData_path\u001b[49m\u001b[43m(\u001b[49m\u001b[38;5;124;43m\"\u001b[39;49m\u001b[38;5;124;43m\"\u001b[39;49m\u001b[43m)\u001b[49m\u001b[43m)\u001b[49m\n",
      "File \u001b[0;32m/opt/anaconda3/envs/ml12/lib/python3.12/site-packages/transformers/pipelines/__init__.py:906\u001b[0m, in \u001b[0;36mpipeline\u001b[0;34m(task, model, config, tokenizer, feature_extractor, image_processor, framework, revision, use_fast, token, device, device_map, torch_dtype, trust_remote_code, model_kwargs, pipeline_class, **kwargs)\u001b[0m\n\u001b[1;32m    904\u001b[0m \u001b[38;5;28;01mif\u001b[39;00m \u001b[38;5;28misinstance\u001b[39m(model, \u001b[38;5;28mstr\u001b[39m) \u001b[38;5;129;01mor\u001b[39;00m framework \u001b[38;5;129;01mis\u001b[39;00m \u001b[38;5;28;01mNone\u001b[39;00m:\n\u001b[1;32m    905\u001b[0m     model_classes \u001b[38;5;241m=\u001b[39m {\u001b[38;5;124m\"\u001b[39m\u001b[38;5;124mtf\u001b[39m\u001b[38;5;124m\"\u001b[39m: targeted_task[\u001b[38;5;124m\"\u001b[39m\u001b[38;5;124mtf\u001b[39m\u001b[38;5;124m\"\u001b[39m], \u001b[38;5;124m\"\u001b[39m\u001b[38;5;124mpt\u001b[39m\u001b[38;5;124m\"\u001b[39m: targeted_task[\u001b[38;5;124m\"\u001b[39m\u001b[38;5;124mpt\u001b[39m\u001b[38;5;124m\"\u001b[39m]}\n\u001b[0;32m--> 906\u001b[0m     framework, model \u001b[38;5;241m=\u001b[39m \u001b[43minfer_framework_load_model\u001b[49m\u001b[43m(\u001b[49m\n\u001b[1;32m    907\u001b[0m \u001b[43m        \u001b[49m\u001b[43mmodel\u001b[49m\u001b[43m,\u001b[49m\n\u001b[1;32m    908\u001b[0m \u001b[43m        \u001b[49m\u001b[43mmodel_classes\u001b[49m\u001b[38;5;241;43m=\u001b[39;49m\u001b[43mmodel_classes\u001b[49m\u001b[43m,\u001b[49m\n\u001b[1;32m    909\u001b[0m \u001b[43m        \u001b[49m\u001b[43mconfig\u001b[49m\u001b[38;5;241;43m=\u001b[39;49m\u001b[43mconfig\u001b[49m\u001b[43m,\u001b[49m\n\u001b[1;32m    910\u001b[0m \u001b[43m        \u001b[49m\u001b[43mframework\u001b[49m\u001b[38;5;241;43m=\u001b[39;49m\u001b[43mframework\u001b[49m\u001b[43m,\u001b[49m\n\u001b[1;32m    911\u001b[0m \u001b[43m        \u001b[49m\u001b[43mtask\u001b[49m\u001b[38;5;241;43m=\u001b[39;49m\u001b[43mtask\u001b[49m\u001b[43m,\u001b[49m\n\u001b[1;32m    912\u001b[0m \u001b[43m        \u001b[49m\u001b[38;5;241;43m*\u001b[39;49m\u001b[38;5;241;43m*\u001b[39;49m\u001b[43mhub_kwargs\u001b[49m\u001b[43m,\u001b[49m\n\u001b[1;32m    913\u001b[0m \u001b[43m        \u001b[49m\u001b[38;5;241;43m*\u001b[39;49m\u001b[38;5;241;43m*\u001b[39;49m\u001b[43mmodel_kwargs\u001b[49m\u001b[43m,\u001b[49m\n\u001b[1;32m    914\u001b[0m \u001b[43m    \u001b[49m\u001b[43m)\u001b[49m\n\u001b[1;32m    916\u001b[0m model_config \u001b[38;5;241m=\u001b[39m model\u001b[38;5;241m.\u001b[39mconfig\n\u001b[1;32m    917\u001b[0m hub_kwargs[\u001b[38;5;124m\"\u001b[39m\u001b[38;5;124m_commit_hash\u001b[39m\u001b[38;5;124m\"\u001b[39m] \u001b[38;5;241m=\u001b[39m model\u001b[38;5;241m.\u001b[39mconfig\u001b[38;5;241m.\u001b[39m_commit_hash\n",
      "File \u001b[0;32m/opt/anaconda3/envs/ml12/lib/python3.12/site-packages/transformers/pipelines/base.py:296\u001b[0m, in \u001b[0;36minfer_framework_load_model\u001b[0;34m(model, config, model_classes, task, framework, **model_kwargs)\u001b[0m\n\u001b[1;32m    294\u001b[0m         \u001b[38;5;28;01mfor\u001b[39;00m class_name, trace \u001b[38;5;129;01min\u001b[39;00m all_traceback\u001b[38;5;241m.\u001b[39mitems():\n\u001b[1;32m    295\u001b[0m             error \u001b[38;5;241m+\u001b[39m\u001b[38;5;241m=\u001b[39m \u001b[38;5;124mf\u001b[39m\u001b[38;5;124m\"\u001b[39m\u001b[38;5;124mwhile loading with \u001b[39m\u001b[38;5;132;01m{\u001b[39;00mclass_name\u001b[38;5;132;01m}\u001b[39;00m\u001b[38;5;124m, an error is thrown:\u001b[39m\u001b[38;5;130;01m\\n\u001b[39;00m\u001b[38;5;132;01m{\u001b[39;00mtrace\u001b[38;5;132;01m}\u001b[39;00m\u001b[38;5;130;01m\\n\u001b[39;00m\u001b[38;5;124m\"\u001b[39m\n\u001b[0;32m--> 296\u001b[0m         \u001b[38;5;28;01mraise\u001b[39;00m \u001b[38;5;167;01mValueError\u001b[39;00m(\n\u001b[1;32m    297\u001b[0m             \u001b[38;5;124mf\u001b[39m\u001b[38;5;124m\"\u001b[39m\u001b[38;5;124mCould not load model \u001b[39m\u001b[38;5;132;01m{\u001b[39;00mmodel\u001b[38;5;132;01m}\u001b[39;00m\u001b[38;5;124m with any of the following classes: \u001b[39m\u001b[38;5;132;01m{\u001b[39;00mclass_tuple\u001b[38;5;132;01m}\u001b[39;00m\u001b[38;5;124m. See the original errors:\u001b[39m\u001b[38;5;130;01m\\n\u001b[39;00m\u001b[38;5;130;01m\\n\u001b[39;00m\u001b[38;5;132;01m{\u001b[39;00merror\u001b[38;5;132;01m}\u001b[39;00m\u001b[38;5;130;01m\\n\u001b[39;00m\u001b[38;5;124m\"\u001b[39m\n\u001b[1;32m    298\u001b[0m         )\n\u001b[1;32m    300\u001b[0m \u001b[38;5;28;01mif\u001b[39;00m framework \u001b[38;5;129;01mis\u001b[39;00m \u001b[38;5;28;01mNone\u001b[39;00m:\n\u001b[1;32m    301\u001b[0m     framework \u001b[38;5;241m=\u001b[39m infer_framework(model\u001b[38;5;241m.\u001b[39m\u001b[38;5;18m__class__\u001b[39m)\n",
      "\u001b[0;31mValueError\u001b[0m: Could not load model hfl/llama-3-chinese-8b with any of the following classes: (<class 'transformers.models.auto.modeling_auto.AutoModelForCausalLM'>, <class 'transformers.models.llama.modeling_llama.LlamaForCausalLM'>). See the original errors:\n\nwhile loading with AutoModelForCausalLM, an error is thrown:\nTraceback (most recent call last):\n  File \"/opt/anaconda3/envs/ml12/lib/python3.12/site-packages/urllib3/response.py\", line 737, in _error_catcher\n    yield\n  File \"/opt/anaconda3/envs/ml12/lib/python3.12/site-packages/urllib3/response.py\", line 862, in _raw_read\n    data = self._fp_read(amt, read1=read1) if not fp_closed else b\"\"\n           ^^^^^^^^^^^^^^^^^^^^^^^^^^^^^^^\n  File \"/opt/anaconda3/envs/ml12/lib/python3.12/site-packages/urllib3/response.py\", line 845, in _fp_read\n    return self._fp.read(amt) if amt is not None else self._fp.read()\n           ^^^^^^^^^^^^^^^^^^\n  File \"/opt/anaconda3/envs/ml12/lib/python3.12/http/client.py\", line 472, in read\n    s = self.fp.read(amt)\n        ^^^^^^^^^^^^^^^^^\n  File \"/opt/anaconda3/envs/ml12/lib/python3.12/socket.py\", line 707, in readinto\n    return self._sock.recv_into(b)\n           ^^^^^^^^^^^^^^^^^^^^^^^\n  File \"/opt/anaconda3/envs/ml12/lib/python3.12/ssl.py\", line 1249, in recv_into\n    return self.read(nbytes, buffer)\n           ^^^^^^^^^^^^^^^^^^^^^^^^^\n  File \"/opt/anaconda3/envs/ml12/lib/python3.12/ssl.py\", line 1105, in read\n    return self._sslobj.read(len, buffer)\n           ^^^^^^^^^^^^^^^^^^^^^^^^^^^^^^\nTimeoutError: The read operation timed out\n\nThe above exception was the direct cause of the following exception:\n\nTraceback (most recent call last):\n  File \"/opt/anaconda3/envs/ml12/lib/python3.12/site-packages/requests/models.py\", line 816, in generate\n    yield from self.raw.stream(chunk_size, decode_content=True)\n  File \"/opt/anaconda3/envs/ml12/lib/python3.12/site-packages/urllib3/response.py\", line 1043, in stream\n    data = self.read(amt=amt, decode_content=decode_content)\n           ^^^^^^^^^^^^^^^^^^^^^^^^^^^^^^^^^^^^^^^^^^^^^^^^^\n  File \"/opt/anaconda3/envs/ml12/lib/python3.12/site-packages/urllib3/response.py\", line 935, in read\n    data = self._raw_read(amt)\n           ^^^^^^^^^^^^^^^^^^^\n  File \"/opt/anaconda3/envs/ml12/lib/python3.12/site-packages/urllib3/response.py\", line 861, in _raw_read\n    with self._error_catcher():\n  File \"/opt/anaconda3/envs/ml12/lib/python3.12/contextlib.py\", line 155, in __exit__\n    self.gen.throw(value)\n  File \"/opt/anaconda3/envs/ml12/lib/python3.12/site-packages/urllib3/response.py\", line 742, in _error_catcher\n    raise ReadTimeoutError(self._pool, None, \"Read timed out.\") from e  # type: ignore[arg-type]\n    ^^^^^^^^^^^^^^^^^^^^^^^^^^^^^^^^^^^^^^^^^^^^^^^^^^^^^^^^^^^^^^^^^^\nurllib3.exceptions.ReadTimeoutError: HTTPSConnectionPool(host='cdn-lfs-us-1.huggingface.co', port=443): Read timed out.\n\nDuring handling of the above exception, another exception occurred:\n\nTraceback (most recent call last):\n  File \"/opt/anaconda3/envs/ml12/lib/python3.12/site-packages/huggingface_hub/file_download.py\", line 535, in http_get\n    for chunk in r.iter_content(chunk_size=DOWNLOAD_CHUNK_SIZE):\n  File \"/opt/anaconda3/envs/ml12/lib/python3.12/site-packages/requests/models.py\", line 822, in generate\n    raise ConnectionError(e)\nrequests.exceptions.ConnectionError: HTTPSConnectionPool(host='cdn-lfs-us-1.huggingface.co', port=443): Read timed out.\n\nDuring handling of the above exception, another exception occurred:\n\nTraceback (most recent call last):\n  File \"/opt/anaconda3/envs/ml12/lib/python3.12/site-packages/urllib3/response.py\", line 737, in _error_catcher\n    yield\n  File \"/opt/anaconda3/envs/ml12/lib/python3.12/site-packages/urllib3/response.py\", line 883, in _raw_read\n    raise IncompleteRead(self._fp_bytes_read, self.length_remaining)\nurllib3.exceptions.IncompleteRead: IncompleteRead(223465610 bytes read, 4619050710 more expected)\n\nThe above exception was the direct cause of the following exception:\n\nTraceback (most recent call last):\n  File \"/opt/anaconda3/envs/ml12/lib/python3.12/site-packages/requests/models.py\", line 816, in generate\n    yield from self.raw.stream(chunk_size, decode_content=True)\n  File \"/opt/anaconda3/envs/ml12/lib/python3.12/site-packages/urllib3/response.py\", line 1043, in stream\n    data = self.read(amt=amt, decode_content=decode_content)\n           ^^^^^^^^^^^^^^^^^^^^^^^^^^^^^^^^^^^^^^^^^^^^^^^^^\n  File \"/opt/anaconda3/envs/ml12/lib/python3.12/site-packages/urllib3/response.py\", line 963, in read\n    data = self._raw_read(amt)\n           ^^^^^^^^^^^^^^^^^^^\n  File \"/opt/anaconda3/envs/ml12/lib/python3.12/site-packages/urllib3/response.py\", line 861, in _raw_read\n    with self._error_catcher():\n  File \"/opt/anaconda3/envs/ml12/lib/python3.12/contextlib.py\", line 155, in __exit__\n    self.gen.throw(value)\n  File \"/opt/anaconda3/envs/ml12/lib/python3.12/site-packages/urllib3/response.py\", line 761, in _error_catcher\n    raise ProtocolError(arg, e) from e\nurllib3.exceptions.ProtocolError: ('Connection broken: IncompleteRead(223465610 bytes read, 4619050710 more expected)', IncompleteRead(223465610 bytes read, 4619050710 more expected))\n\nDuring handling of the above exception, another exception occurred:\n\nTraceback (most recent call last):\n  File \"/opt/anaconda3/envs/ml12/lib/python3.12/site-packages/transformers/pipelines/base.py\", line 283, in infer_framework_load_model\n    model = model_class.from_pretrained(model, **kwargs)\n            ^^^^^^^^^^^^^^^^^^^^^^^^^^^^^^^^^^^^^^^^^^^^\n  File \"/opt/anaconda3/envs/ml12/lib/python3.12/site-packages/transformers/models/auto/auto_factory.py\", line 563, in from_pretrained\n    return model_class.from_pretrained(\n           ^^^^^^^^^^^^^^^^^^^^^^^^^^^^\n  File \"/opt/anaconda3/envs/ml12/lib/python3.12/site-packages/transformers/modeling_utils.py\", line 3436, in from_pretrained\n    resolved_archive_file, sharded_metadata = get_checkpoint_shard_files(\n                                              ^^^^^^^^^^^^^^^^^^^^^^^^^^^\n  File \"/opt/anaconda3/envs/ml12/lib/python3.12/site-packages/transformers/utils/hub.py\", line 1038, in get_checkpoint_shard_files\n    cached_filename = cached_file(\n                      ^^^^^^^^^^^^\n  File \"/opt/anaconda3/envs/ml12/lib/python3.12/site-packages/transformers/utils/hub.py\", line 398, in cached_file\n    resolved_file = hf_hub_download(\n                    ^^^^^^^^^^^^^^^^\n  File \"/opt/anaconda3/envs/ml12/lib/python3.12/site-packages/huggingface_hub/utils/_validators.py\", line 119, in _inner_fn\n    return fn(*args, **kwargs)\n           ^^^^^^^^^^^^^^^^^^^\n  File \"/opt/anaconda3/envs/ml12/lib/python3.12/site-packages/huggingface_hub/file_download.py\", line 1492, in hf_hub_download\n    http_get(\n  File \"/opt/anaconda3/envs/ml12/lib/python3.12/site-packages/huggingface_hub/file_download.py\", line 552, in http_get\n    return http_get(\n           ^^^^^^^^^\n  File \"/opt/anaconda3/envs/ml12/lib/python3.12/site-packages/huggingface_hub/file_download.py\", line 535, in http_get\n    for chunk in r.iter_content(chunk_size=DOWNLOAD_CHUNK_SIZE):\n  File \"/opt/anaconda3/envs/ml12/lib/python3.12/site-packages/requests/models.py\", line 818, in generate\n    raise ChunkedEncodingError(e)\nrequests.exceptions.ChunkedEncodingError: ('Connection broken: IncompleteRead(223465610 bytes read, 4619050710 more expected)', IncompleteRead(223465610 bytes read, 4619050710 more expected))\n\nwhile loading with LlamaForCausalLM, an error is thrown:\nTraceback (most recent call last):\n  File \"/opt/anaconda3/envs/ml12/lib/python3.12/site-packages/urllib3/response.py\", line 737, in _error_catcher\n    yield\n  File \"/opt/anaconda3/envs/ml12/lib/python3.12/site-packages/urllib3/response.py\", line 862, in _raw_read\n    data = self._fp_read(amt, read1=read1) if not fp_closed else b\"\"\n           ^^^^^^^^^^^^^^^^^^^^^^^^^^^^^^^\n  File \"/opt/anaconda3/envs/ml12/lib/python3.12/site-packages/urllib3/response.py\", line 845, in _fp_read\n    return self._fp.read(amt) if amt is not None else self._fp.read()\n           ^^^^^^^^^^^^^^^^^^\n  File \"/opt/anaconda3/envs/ml12/lib/python3.12/http/client.py\", line 472, in read\n    s = self.fp.read(amt)\n        ^^^^^^^^^^^^^^^^^\n  File \"/opt/anaconda3/envs/ml12/lib/python3.12/socket.py\", line 707, in readinto\n    return self._sock.recv_into(b)\n           ^^^^^^^^^^^^^^^^^^^^^^^\n  File \"/opt/anaconda3/envs/ml12/lib/python3.12/ssl.py\", line 1249, in recv_into\n    return self.read(nbytes, buffer)\n           ^^^^^^^^^^^^^^^^^^^^^^^^^\n  File \"/opt/anaconda3/envs/ml12/lib/python3.12/ssl.py\", line 1105, in read\n    return self._sslobj.read(len, buffer)\n           ^^^^^^^^^^^^^^^^^^^^^^^^^^^^^^\nTimeoutError: The read operation timed out\n\nThe above exception was the direct cause of the following exception:\n\nTraceback (most recent call last):\n  File \"/opt/anaconda3/envs/ml12/lib/python3.12/site-packages/requests/models.py\", line 816, in generate\n    yield from self.raw.stream(chunk_size, decode_content=True)\n  File \"/opt/anaconda3/envs/ml12/lib/python3.12/site-packages/urllib3/response.py\", line 1043, in stream\n    data = self.read(amt=amt, decode_content=decode_content)\n           ^^^^^^^^^^^^^^^^^^^^^^^^^^^^^^^^^^^^^^^^^^^^^^^^^\n  File \"/opt/anaconda3/envs/ml12/lib/python3.12/site-packages/urllib3/response.py\", line 935, in read\n    data = self._raw_read(amt)\n           ^^^^^^^^^^^^^^^^^^^\n  File \"/opt/anaconda3/envs/ml12/lib/python3.12/site-packages/urllib3/response.py\", line 861, in _raw_read\n    with self._error_catcher():\n  File \"/opt/anaconda3/envs/ml12/lib/python3.12/contextlib.py\", line 155, in __exit__\n    self.gen.throw(value)\n  File \"/opt/anaconda3/envs/ml12/lib/python3.12/site-packages/urllib3/response.py\", line 742, in _error_catcher\n    raise ReadTimeoutError(self._pool, None, \"Read timed out.\") from e  # type: ignore[arg-type]\n    ^^^^^^^^^^^^^^^^^^^^^^^^^^^^^^^^^^^^^^^^^^^^^^^^^^^^^^^^^^^^^^^^^^\nurllib3.exceptions.ReadTimeoutError: HTTPSConnectionPool(host='cdn-lfs-us-1.huggingface.co', port=443): Read timed out.\n\nDuring handling of the above exception, another exception occurred:\n\nTraceback (most recent call last):\n  File \"/opt/anaconda3/envs/ml12/lib/python3.12/site-packages/huggingface_hub/file_download.py\", line 535, in http_get\n    for chunk in r.iter_content(chunk_size=DOWNLOAD_CHUNK_SIZE):\n  File \"/opt/anaconda3/envs/ml12/lib/python3.12/site-packages/requests/models.py\", line 822, in generate\n    raise ConnectionError(e)\nrequests.exceptions.ConnectionError: HTTPSConnectionPool(host='cdn-lfs-us-1.huggingface.co', port=443): Read timed out.\n\nDuring handling of the above exception, another exception occurred:\n\nTraceback (most recent call last):\n  File \"/opt/anaconda3/envs/ml12/lib/python3.12/site-packages/urllib3/response.py\", line 737, in _error_catcher\n    yield\n  File \"/opt/anaconda3/envs/ml12/lib/python3.12/site-packages/urllib3/response.py\", line 862, in _raw_read\n    data = self._fp_read(amt, read1=read1) if not fp_closed else b\"\"\n           ^^^^^^^^^^^^^^^^^^^^^^^^^^^^^^^\n  File \"/opt/anaconda3/envs/ml12/lib/python3.12/site-packages/urllib3/response.py\", line 845, in _fp_read\n    return self._fp.read(amt) if amt is not None else self._fp.read()\n           ^^^^^^^^^^^^^^^^^^\n  File \"/opt/anaconda3/envs/ml12/lib/python3.12/http/client.py\", line 472, in read\n    s = self.fp.read(amt)\n        ^^^^^^^^^^^^^^^^^\n  File \"/opt/anaconda3/envs/ml12/lib/python3.12/socket.py\", line 707, in readinto\n    return self._sock.recv_into(b)\n           ^^^^^^^^^^^^^^^^^^^^^^^\n  File \"/opt/anaconda3/envs/ml12/lib/python3.12/ssl.py\", line 1249, in recv_into\n    return self.read(nbytes, buffer)\n           ^^^^^^^^^^^^^^^^^^^^^^^^^\n  File \"/opt/anaconda3/envs/ml12/lib/python3.12/ssl.py\", line 1105, in read\n    return self._sslobj.read(len, buffer)\n           ^^^^^^^^^^^^^^^^^^^^^^^^^^^^^^\nTimeoutError: The read operation timed out\n\nThe above exception was the direct cause of the following exception:\n\nTraceback (most recent call last):\n  File \"/opt/anaconda3/envs/ml12/lib/python3.12/site-packages/requests/models.py\", line 816, in generate\n    yield from self.raw.stream(chunk_size, decode_content=True)\n  File \"/opt/anaconda3/envs/ml12/lib/python3.12/site-packages/urllib3/response.py\", line 1043, in stream\n    data = self.read(amt=amt, decode_content=decode_content)\n           ^^^^^^^^^^^^^^^^^^^^^^^^^^^^^^^^^^^^^^^^^^^^^^^^^\n  File \"/opt/anaconda3/envs/ml12/lib/python3.12/site-packages/urllib3/response.py\", line 935, in read\n    data = self._raw_read(amt)\n           ^^^^^^^^^^^^^^^^^^^\n  File \"/opt/anaconda3/envs/ml12/lib/python3.12/site-packages/urllib3/response.py\", line 861, in _raw_read\n    with self._error_catcher():\n  File \"/opt/anaconda3/envs/ml12/lib/python3.12/contextlib.py\", line 155, in __exit__\n    self.gen.throw(value)\n  File \"/opt/anaconda3/envs/ml12/lib/python3.12/site-packages/urllib3/response.py\", line 742, in _error_catcher\n    raise ReadTimeoutError(self._pool, None, \"Read timed out.\") from e  # type: ignore[arg-type]\n    ^^^^^^^^^^^^^^^^^^^^^^^^^^^^^^^^^^^^^^^^^^^^^^^^^^^^^^^^^^^^^^^^^^\nurllib3.exceptions.ReadTimeoutError: HTTPSConnectionPool(host='cdn-lfs-us-1.huggingface.co', port=443): Read timed out.\n\nDuring handling of the above exception, another exception occurred:\n\nTraceback (most recent call last):\n  File \"/opt/anaconda3/envs/ml12/lib/python3.12/site-packages/huggingface_hub/file_download.py\", line 535, in http_get\n    for chunk in r.iter_content(chunk_size=DOWNLOAD_CHUNK_SIZE):\n  File \"/opt/anaconda3/envs/ml12/lib/python3.12/site-packages/requests/models.py\", line 822, in generate\n    raise ConnectionError(e)\nrequests.exceptions.ConnectionError: HTTPSConnectionPool(host='cdn-lfs-us-1.huggingface.co', port=443): Read timed out.\n\nDuring handling of the above exception, another exception occurred:\n\nTraceback (most recent call last):\n  File \"/opt/anaconda3/envs/ml12/lib/python3.12/site-packages/urllib3/response.py\", line 737, in _error_catcher\n    yield\n  File \"/opt/anaconda3/envs/ml12/lib/python3.12/site-packages/urllib3/response.py\", line 862, in _raw_read\n    data = self._fp_read(amt, read1=read1) if not fp_closed else b\"\"\n           ^^^^^^^^^^^^^^^^^^^^^^^^^^^^^^^\n  File \"/opt/anaconda3/envs/ml12/lib/python3.12/site-packages/urllib3/response.py\", line 845, in _fp_read\n    return self._fp.read(amt) if amt is not None else self._fp.read()\n           ^^^^^^^^^^^^^^^^^^\n  File \"/opt/anaconda3/envs/ml12/lib/python3.12/http/client.py\", line 472, in read\n    s = self.fp.read(amt)\n        ^^^^^^^^^^^^^^^^^\n  File \"/opt/anaconda3/envs/ml12/lib/python3.12/socket.py\", line 707, in readinto\n    return self._sock.recv_into(b)\n           ^^^^^^^^^^^^^^^^^^^^^^^\n  File \"/opt/anaconda3/envs/ml12/lib/python3.12/ssl.py\", line 1249, in recv_into\n    return self.read(nbytes, buffer)\n           ^^^^^^^^^^^^^^^^^^^^^^^^^\n  File \"/opt/anaconda3/envs/ml12/lib/python3.12/ssl.py\", line 1105, in read\n    return self._sslobj.read(len, buffer)\n           ^^^^^^^^^^^^^^^^^^^^^^^^^^^^^^\nTimeoutError: The read operation timed out\n\nThe above exception was the direct cause of the following exception:\n\nTraceback (most recent call last):\n  File \"/opt/anaconda3/envs/ml12/lib/python3.12/site-packages/requests/models.py\", line 816, in generate\n    yield from self.raw.stream(chunk_size, decode_content=True)\n  File \"/opt/anaconda3/envs/ml12/lib/python3.12/site-packages/urllib3/response.py\", line 1043, in stream\n    data = self.read(amt=amt, decode_content=decode_content)\n           ^^^^^^^^^^^^^^^^^^^^^^^^^^^^^^^^^^^^^^^^^^^^^^^^^\n  File \"/opt/anaconda3/envs/ml12/lib/python3.12/site-packages/urllib3/response.py\", line 935, in read\n    data = self._raw_read(amt)\n           ^^^^^^^^^^^^^^^^^^^\n  File \"/opt/anaconda3/envs/ml12/lib/python3.12/site-packages/urllib3/response.py\", line 861, in _raw_read\n    with self._error_catcher():\n  File \"/opt/anaconda3/envs/ml12/lib/python3.12/contextlib.py\", line 155, in __exit__\n    self.gen.throw(value)\n  File \"/opt/anaconda3/envs/ml12/lib/python3.12/site-packages/urllib3/response.py\", line 742, in _error_catcher\n    raise ReadTimeoutError(self._pool, None, \"Read timed out.\") from e  # type: ignore[arg-type]\n    ^^^^^^^^^^^^^^^^^^^^^^^^^^^^^^^^^^^^^^^^^^^^^^^^^^^^^^^^^^^^^^^^^^\nurllib3.exceptions.ReadTimeoutError: HTTPSConnectionPool(host='cdn-lfs-us-1.huggingface.co', port=443): Read timed out.\n\nDuring handling of the above exception, another exception occurred:\n\nTraceback (most recent call last):\n  File \"/opt/anaconda3/envs/ml12/lib/python3.12/site-packages/huggingface_hub/file_download.py\", line 535, in http_get\n    for chunk in r.iter_content(chunk_size=DOWNLOAD_CHUNK_SIZE):\n  File \"/opt/anaconda3/envs/ml12/lib/python3.12/site-packages/requests/models.py\", line 822, in generate\n    raise ConnectionError(e)\nrequests.exceptions.ConnectionError: HTTPSConnectionPool(host='cdn-lfs-us-1.huggingface.co', port=443): Read timed out.\n\nDuring handling of the above exception, another exception occurred:\n\nTraceback (most recent call last):\n  File \"/opt/anaconda3/envs/ml12/lib/python3.12/site-packages/urllib3/response.py\", line 737, in _error_catcher\n    yield\n  File \"/opt/anaconda3/envs/ml12/lib/python3.12/site-packages/urllib3/response.py\", line 883, in _raw_read\n    raise IncompleteRead(self._fp_bytes_read, self.length_remaining)\nurllib3.exceptions.IncompleteRead: IncompleteRead(179882745 bytes read, 3928630375 more expected)\n\nThe above exception was the direct cause of the following exception:\n\nTraceback (most recent call last):\n  File \"/opt/anaconda3/envs/ml12/lib/python3.12/site-packages/requests/models.py\", line 816, in generate\n    yield from self.raw.stream(chunk_size, decode_content=True)\n  File \"/opt/anaconda3/envs/ml12/lib/python3.12/site-packages/urllib3/response.py\", line 1043, in stream\n    data = self.read(amt=amt, decode_content=decode_content)\n           ^^^^^^^^^^^^^^^^^^^^^^^^^^^^^^^^^^^^^^^^^^^^^^^^^\n  File \"/opt/anaconda3/envs/ml12/lib/python3.12/site-packages/urllib3/response.py\", line 963, in read\n    data = self._raw_read(amt)\n           ^^^^^^^^^^^^^^^^^^^\n  File \"/opt/anaconda3/envs/ml12/lib/python3.12/site-packages/urllib3/response.py\", line 861, in _raw_read\n    with self._error_catcher():\n  File \"/opt/anaconda3/envs/ml12/lib/python3.12/contextlib.py\", line 155, in __exit__\n    self.gen.throw(value)\n  File \"/opt/anaconda3/envs/ml12/lib/python3.12/site-packages/urllib3/response.py\", line 761, in _error_catcher\n    raise ProtocolError(arg, e) from e\nurllib3.exceptions.ProtocolError: ('Connection broken: IncompleteRead(179882745 bytes read, 3928630375 more expected)', IncompleteRead(179882745 bytes read, 3928630375 more expected))\n\nDuring handling of the above exception, another exception occurred:\n\nTraceback (most recent call last):\n  File \"/opt/anaconda3/envs/ml12/lib/python3.12/site-packages/transformers/pipelines/base.py\", line 283, in infer_framework_load_model\n    model = model_class.from_pretrained(model, **kwargs)\n            ^^^^^^^^^^^^^^^^^^^^^^^^^^^^^^^^^^^^^^^^^^^^\n  File \"/opt/anaconda3/envs/ml12/lib/python3.12/site-packages/transformers/modeling_utils.py\", line 3436, in from_pretrained\n    resolved_archive_file, sharded_metadata = get_checkpoint_shard_files(\n                                              ^^^^^^^^^^^^^^^^^^^^^^^^^^^\n  File \"/opt/anaconda3/envs/ml12/lib/python3.12/site-packages/transformers/utils/hub.py\", line 1038, in get_checkpoint_shard_files\n    cached_filename = cached_file(\n                      ^^^^^^^^^^^^\n  File \"/opt/anaconda3/envs/ml12/lib/python3.12/site-packages/transformers/utils/hub.py\", line 398, in cached_file\n    resolved_file = hf_hub_download(\n                    ^^^^^^^^^^^^^^^^\n  File \"/opt/anaconda3/envs/ml12/lib/python3.12/site-packages/huggingface_hub/utils/_validators.py\", line 119, in _inner_fn\n    return fn(*args, **kwargs)\n           ^^^^^^^^^^^^^^^^^^^\n  File \"/opt/anaconda3/envs/ml12/lib/python3.12/site-packages/huggingface_hub/file_download.py\", line 1492, in hf_hub_download\n    http_get(\n  File \"/opt/anaconda3/envs/ml12/lib/python3.12/site-packages/huggingface_hub/file_download.py\", line 552, in http_get\n    return http_get(\n           ^^^^^^^^^\n  File \"/opt/anaconda3/envs/ml12/lib/python3.12/site-packages/huggingface_hub/file_download.py\", line 552, in http_get\n    return http_get(\n           ^^^^^^^^^\n  File \"/opt/anaconda3/envs/ml12/lib/python3.12/site-packages/huggingface_hub/file_download.py\", line 552, in http_get\n    return http_get(\n           ^^^^^^^^^\n  File \"/opt/anaconda3/envs/ml12/lib/python3.12/site-packages/huggingface_hub/file_download.py\", line 535, in http_get\n    for chunk in r.iter_content(chunk_size=DOWNLOAD_CHUNK_SIZE):\n  File \"/opt/anaconda3/envs/ml12/lib/python3.12/site-packages/requests/models.py\", line 818, in generate\n    raise ChunkedEncodingError(e)\nrequests.exceptions.ChunkedEncodingError: ('Connection broken: IncompleteRead(179882745 bytes read, 3928630375 more expected)', IncompleteRead(179882745 bytes read, 3928630375 more expected))\n\n\n"
     ]
    }
   ],
   "source": [
    "# Use a pipeline as a high-level helper\n",
    "from transformers import pipeline\n",
    "\n",
    "pipe = pipeline(\"text-generation\", model=\"hfl/llama-3-chinese-8b\", cache_dir = create_originalData_path(\"\"))"
   ]
  },
  {
   "cell_type": "code",
   "execution_count": null,
   "id": "ba670b72",
   "metadata": {},
   "outputs": [],
   "source": []
  },
  {
   "cell_type": "code",
   "execution_count": null,
   "id": "c82195f1-818c-452e-a419-7b91ad3f1666",
   "metadata": {},
   "outputs": [],
   "source": []
  }
 ],
 "metadata": {
  "kernelspec": {
   "display_name": "Python 3 (ipykernel)",
   "language": "python",
   "name": "python3"
  },
  "language_info": {
   "codemirror_mode": {
    "name": "ipython",
    "version": 3
   },
   "file_extension": ".py",
   "mimetype": "text/x-python",
   "name": "python",
   "nbconvert_exporter": "python",
   "pygments_lexer": "ipython3",
   "version": "3.12.0"
  }
 },
 "nbformat": 4,
 "nbformat_minor": 5
}
