{
 "cells": [
  {
   "cell_type": "markdown",
   "id": "087b3e5a",
   "metadata": {},
   "source": [
    "https://zhuanlan.zhihu.com/p/677125915?utm_psn=1737439774028455936\n",
    "\n",
    "conda环境：mlxtest"
   ]
  },
  {
   "cell_type": "code",
   "execution_count": null,
   "id": "beb9362d",
   "metadata": {},
   "outputs": [],
   "source": []
  }
 ],
 "metadata": {
  "kernelspec": {
   "display_name": "Python 3 (ipykernel)",
   "language": "python",
   "name": "python3"
  },
  "language_info": {
   "codemirror_mode": {
    "name": "ipython",
    "version": 3
   },
   "file_extension": ".py",
   "mimetype": "text/x-python",
   "name": "python",
   "nbconvert_exporter": "python",
   "pygments_lexer": "ipython3",
   "version": "3.12.0"
  }
 },
 "nbformat": 4,
 "nbformat_minor": 5
}
