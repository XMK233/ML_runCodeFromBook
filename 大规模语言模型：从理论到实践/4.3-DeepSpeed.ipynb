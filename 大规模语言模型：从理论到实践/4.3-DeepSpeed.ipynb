{
 "cells": [
  {
   "cell_type": "code",
   "execution_count": 10,
   "id": "ec129ed0-38b9-4084-9526-9482023d428c",
   "metadata": {},
   "outputs": [],
   "source": [
    "## 装这个库之前，还得装一些依赖库。一个一个装就完事儿了。\n",
    "## !pip install deepspeed"
   ]
  },
  {
   "cell_type": "code",
   "execution_count": 11,
   "id": "b232956f-9d18-493b-859a-fce3ae4cdc02",
   "metadata": {},
   "outputs": [
    {
     "name": "stdout",
     "output_type": "stream",
     "text": [
      "[2024-05-18 02:45:04,204] [INFO] [real_accelerator.py:203:get_accelerator] Setting ds_accelerator to mps (auto detect)\n"
     ]
    },
    {
     "name": "stderr",
     "output_type": "stream",
     "text": [
      "[2024-05-18 02:45:04,277] torch.distributed.elastic.multiprocessing.redirects: [WARNING] NOTE: Redirects are currently not supported in Windows or MacOs.\n"
     ]
    }
   ],
   "source": [
    "from deepspeed.ops.adam import DeepSpeedCPUAdam, FusedAdam"
   ]
  },
  {
   "cell_type": "code",
   "execution_count": null,
   "id": "52941c78-3b0b-4414-bc2a-0e18879d93c0",
   "metadata": {},
   "outputs": [],
   "source": []
  }
 ],
 "metadata": {
  "kernelspec": {
   "display_name": "Python 3 (ipykernel)",
   "language": "python",
   "name": "python3"
  },
  "language_info": {
   "codemirror_mode": {
    "name": "ipython",
    "version": 3
   },
   "file_extension": ".py",
   "mimetype": "text/x-python",
   "name": "python",
   "nbconvert_exporter": "python",
   "pygments_lexer": "ipython3",
   "version": "3.12.0"
  }
 },
 "nbformat": 4,
 "nbformat_minor": 5
}
