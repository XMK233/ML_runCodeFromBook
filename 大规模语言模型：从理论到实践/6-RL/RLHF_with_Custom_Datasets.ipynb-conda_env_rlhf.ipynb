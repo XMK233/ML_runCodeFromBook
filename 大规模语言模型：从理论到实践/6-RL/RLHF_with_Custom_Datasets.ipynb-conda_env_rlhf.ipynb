{
 "cells": [
  {
   "cell_type": "markdown",
   "id": "b5babdce-8ea3-4c8e-92e0-3ceedbc2cc22",
   "metadata": {},
   "source": [
    "用的conda env: rlhf"
   ]
  },
  {
   "cell_type": "code",
   "execution_count": 1,
   "id": "875b94f3-440b-44f2-bfcf-bc889b46d02e",
   "metadata": {},
   "outputs": [
    {
     "name": "stdout",
     "output_type": "stream",
     "text": [
      "storage dir: /Users/minkexiu/Downloads/GitHub/ML_runCodeFromBook/大规模语言模型：从理论到实践/6-RL\n",
      "code dir: /Users/minkexiu/Documents/GitHub/ML_runCodeFromBook/大规模语言模型：从理论到实践/6-RL\n"
     ]
    }
   ],
   "source": [
    "import random, os, tqdm, time, json\n",
    "import numpy as np\n",
    "import pandas as pd\n",
    "from matplotlib.font_manager import FontProperties\n",
    "import matplotlib.pyplot as plt\n",
    "\n",
    "import sys\n",
    "sys.path.append(\"../../../../\")\n",
    "\n",
    "random.seed(618)\n",
    "np.random.seed(907)\n",
    "\n",
    "new_base_path = os.path.join(\n",
    "    \"/Users/minkexiu/Downloads/\",\n",
    "    \"/\".join(\n",
    "        os.getcwd().split(\"/\")[-1*(len(sys.path[-1].split(\"/\")) - 1):]\n",
    "    ),\n",
    ")\n",
    "print(\"storage dir:\", new_base_path)\n",
    "print(\"code dir:\", os.getcwd())\n",
    "\n",
    "## 创建文件夹。\n",
    "if not os.path.exists(new_base_path):\n",
    "    os.makedirs(\n",
    "        new_base_path\n",
    "    )\n",
    "if not os.path.exists(os.path.join(new_base_path, \"preprocessedData\")):\n",
    "    os.makedirs(\n",
    "        os.path.join(new_base_path, \"preprocessedData\")\n",
    "    )\n",
    "if not os.path.exists(os.path.join(new_base_path, \"originalData\")):\n",
    "    os.makedirs(\n",
    "        os.path.join(new_base_path, \"originalData\")\n",
    "    )\n",
    "if not os.path.exists(os.path.join(new_base_path, \"trained_models\")):\n",
    "    os.makedirs(\n",
    "        os.path.join(new_base_path, \"trained_models\")\n",
    "    )\n",
    "\n",
    "def create_originalData_path(filename_or_path):\n",
    "    return os.path.join(new_base_path, \"originalData\", filename_or_path)\n",
    "def create_preprocessedData_path(filename_or_path):\n",
    "    return os.path.join(new_base_path, \"preprocessedData\", filename_or_path)\n",
    "def create_trained_models_path(filename_or_path):\n",
    "    return os.path.join(new_base_path, \"trained_models\", filename_or_path)\n",
    "\n",
    "def millisec2datetime(timestamp):\n",
    "    time_local = time.localtime(timestamp/1000)\n",
    "    return time.strftime(\"%Y-%m-%d %H:%M:%S\", time_local)\n",
    "    \n",
    "def run_finish():\n",
    "    # 假设你的字体文件是 'myfont.ttf' 并且位于当前目录下  \n",
    "    font = FontProperties(fname=\"/Users/minkexiu/Documents/GitHub/ML_Tryout/SimHei.ttf\", size=24)  \n",
    "    # 创建一个空白的图形  \n",
    "    fig, ax = plt.subplots()  \n",
    "    ax.imshow(\n",
    "        plt.imread(\"/Users/minkexiu/Downloads/wallhaven-dgxpyg.jpg\")\n",
    "    )\n",
    "    # 在图形中添加文字  \n",
    "    ax.text(\n",
    "        ax.get_xlim()[1] * 0.5, \n",
    "        ax.get_ylim()[0] * 0.5, \n",
    "        f\"程序于这个点跑完：\\n{millisec2datetime(time.time()*1000)}\", fontproperties=font, ha=\"center\", va=\"center\", color=\"red\"\n",
    "    )  \n",
    "    # 设置图形的布局  \n",
    "    # ax.set_xlim(0, 1)  \n",
    "    # ax.set_ylim(0, 1)  \n",
    "    ax.set_xticks([])  \n",
    "    ax.set_yticks([])  \n",
    "    ax.patch.set_color(\"blue\")\n",
    "    # 显示图形  \n",
    "    plt.show()\n",
    "        \n",
    "tqdm.tqdm.pandas() ## 引入这个，就可以在apply的时候用progress_apply了。\n",
    "\n",
    "import IPython\n",
    "def kill_current_kernel():\n",
    "    '''杀死当前的kernel释放内存空间。'''\n",
    "    IPython.Application.instance().kernel.do_shutdown(True) \n",
    "    \n",
    "def simply_show_data(df1):\n",
    "    print(df1.shape)\n",
    "    display(df1.head())\n",
    "    \n",
    "def wait_flag(saved_flag_path, time_interval_sec=10):\n",
    "    print(\"waiting for\", saved_flag_path)\n",
    "    time_count = 0\n",
    "    while True:\n",
    "        if os.path.exists(saved_flag_path):\n",
    "            break\n",
    "        time.sleep(time_interval_sec)\n",
    "        time_count+=time_interval_sec\n",
    "        print(time_count, end=\" \")\n",
    "    print(\"finish!!\")"
   ]
  },
  {
   "cell_type": "markdown",
   "id": "015a0bba-b3d7-49f3-bb13-85c90aef93b1",
   "metadata": {},
   "source": [
    "https://github.com/HumanSignal/RLHF/blob/master/tutorials/RLHF_with_Custom_Datasets.ipynb\n",
    "\n",
    "创建了一个新的env。然后，mpi4py的安装需要用 `conda install mpi4py` 参考 https://github.com/mpi4py/mpi4py/issues/335#issuecomment-1527320931"
   ]
  },
  {
   "cell_type": "code",
   "execution_count": 2,
   "id": "fe099c3a-6e6e-4226-9ad7-6eec01b415cd",
   "metadata": {},
   "outputs": [],
   "source": [
    "from transformers import pipeline, set_seed\n",
    "import json"
   ]
  },
  {
   "cell_type": "markdown",
   "id": "f35a303f-0807-4ee3-966b-40f9ba9f6e1e",
   "metadata": {
    "jp-MarkdownHeadingCollapsed": true
   },
   "source": [
    "# prepare data"
   ]
  },
  {
   "cell_type": "code",
   "execution_count": 2,
   "id": "aef75c47-fba2-499b-aca8-0fbac52f64eb",
   "metadata": {},
   "outputs": [],
   "source": [
    "\n",
    "\n",
    "def generate_examples(prompt_list, model_name='gpt2', max_length=50, num_return_sequences=2, seed=42):\n",
    "    generator = pipeline('text-generation', model=model_name, device=0)\n",
    "    set_seed(seed)\n",
    "    examples = []\n",
    "    for prompt in prompt_list:\n",
    "        result = generator(prompt, max_length=max_length, num_return_sequences=num_return_sequences)\n",
    "        example = {'prompt': prompt}\n",
    "        for i, res in enumerate(result):\n",
    "            answer = res['generated_text'].lstrip().removeprefix(prompt).strip()\n",
    "            example[f'answer{i + 1}'] = answer\n",
    "        examples.append(example)\n",
    "        print(json.dumps(example, indent=2))\n",
    "    return examples"
   ]
  },
  {
   "cell_type": "code",
   "execution_count": 3,
   "id": "a829c461-51e1-4f65-a236-cad5bc66dab5",
   "metadata": {},
   "outputs": [],
   "source": [
    "prompts = [\n",
    "    \"What is the latest news on the stock market?\",\n",
    "    \"What is the current state of the economy?\",\n",
    "    \"What are the latest developments in technology?\",\n",
    "    \"What is the political situation in the Middle East?\",\n",
    "    \"What are the latest trends in fashion and beauty?\",\n",
    "    \"What are the top travel destinations for this year?\",\n",
    "    \"What are some healthy recipes for a vegan diet?\",\n",
    "    \"What are the most important events happening in the world today?\",\n",
    "    \"What are some tips for improving mental health?\",\n",
    "    \"What are the best ways to save money for retirement?\",\n",
    "    \"What are some popular new books or movies?\",\n",
    "    \"What are some effective ways to reduce stress?\",\n",
    "    \"What are the latest developments in artificial intelligence?\",\n",
    "    \"What are some top-rated restaurants in your city?\",\n",
    "    \"What are the best ways to stay fit and healthy?\",\n",
    "    \"What are some tips for successful entrepreneurship?\",\n",
    "    \"What are some effective ways to improve productivity?\",\n",
    "    \"What are the latest developments in climate change research?\",\n",
    "    \"What are some top-rated TV shows or movies on streaming services?\",\n",
    "    \"What are some fun activities to do on weekends?\",\n",
    "    \"What are some effective ways to manage time and prioritize tasks?\",\n",
    "    \"What are the latest trends in home decor and design?\",\n",
    "    \"What are the best ways to develop a successful career?\",\n",
    "    \"What are some popular new products or gadgets?\",\n",
    "    \"What are some effective ways to improve communication skills?\",\n",
    "    \"What are some tips for successful relationships?\",\n",
    "    \"What are the latest developments in space exploration?\",\n",
    "    \"What are some top-rated online courses or certifications?\",\n",
    "    \"What are some effective ways to improve public speaking skills?\",\n",
    "    \"What are the latest trends in digital marketing?\",\n",
    "    \"What are some fun and creative DIY projects?\",\n",
    "    \"What are some effective ways to improve leadership skills?\"\n",
    "]"
   ]
  },
  {
   "cell_type": "code",
   "execution_count": null,
   "id": "7390b87d-799d-4a17-b741-dbdb9f7717ef",
   "metadata": {},
   "outputs": [],
   "source": [
    "generated_examples = generate_examples(prompts)\n",
    "\n",
    "# Save generated examples to import in Label Studio\n",
    "with open('ls_input_data.json', 'w') as f:\n",
    "    json.dump(generated_examples, f, indent=2)"
   ]
  },
  {
   "cell_type": "markdown",
   "id": "101bc20e-1097-4b66-9814-afa9417e1567",
   "metadata": {},
   "source": [
    "# use data"
   ]
  },
  {
   "cell_type": "code",
   "execution_count": 3,
   "id": "839096b3-2b71-470d-8baa-7b69709f0fcd",
   "metadata": {
    "scrolled": true
   },
   "outputs": [],
   "source": [
    "import codecs\n",
    "\n",
    "# This file is generated by Label Studio after completing annotations\n",
    "data_path = 'ls_export_data.json'\n",
    "\n",
    "with codecs.open(data_path, 'r', encoding='utf-8') as f:\n",
    "      data = json.load(f)\n",
    "# print(data)"
   ]
  },
  {
   "cell_type": "code",
   "execution_count": 15,
   "id": "d9e6c79f-6e3c-4cc4-aff6-e0b24f53e1c6",
   "metadata": {},
   "outputs": [],
   "source": [
    "import torch\n",
    "from torch import nn\n",
    "from transformers import AutoModelForCausalLM, AutoTokenizer\n",
    "\n",
    "\n",
    "class GPTRewardModel(nn.Module):\n",
    "    def __init__(self, model_path):\n",
    "        super().__init__()\n",
    "        model = AutoModelForCausalLM.from_pretrained(model_path)\n",
    "        self.config = model.config\n",
    "        # `gpt-neo(x)` models use `hidden_size` attribute names instead of `n_embd``\n",
    "        self.config.n_embd = self.config.hidden_size if hasattr(self.config, \"hidden_size\") else self.config.n_embd\n",
    "        self.transformer = model.transformer\n",
    "        self.v_head = nn.Linear(self.config.n_embd, 1, bias=False)\n",
    "        self.tokenizer = AutoTokenizer.from_pretrained(\n",
    "            \"gpt2\" ## 原本的代码，这里的模型可能是没有权限，获取不到。。。\n",
    "        )# \n",
    "        self.tokenizer.pad_token = self.tokenizer.eos_token\n",
    "        self.PAD_ID = self.tokenizer(self.tokenizer.pad_token)[\"input_ids\"][0]\n",
    "\n",
    "    def forward(\n",
    "        self,\n",
    "        input_ids=None,\n",
    "        past_key_values=None,\n",
    "        attention_mask=None,\n",
    "        token_type_ids=None,\n",
    "        position_ids=None,\n",
    "        head_mask=None,\n",
    "        inputs_embeds=None,\n",
    "        mc_token_ids=None,\n",
    "        labels=None,\n",
    "        return_dict=False,\n",
    "        output_attentions=False,\n",
    "        output_hidden_states=False,\n",
    "    ):\n",
    "        loss = None\n",
    "        transformer_outputs = self.transformer(\n",
    "            input_ids,\n",
    "            past_key_values=past_key_values,\n",
    "            attention_mask=attention_mask,\n",
    "            token_type_ids=token_type_ids,\n",
    "            position_ids=position_ids,\n",
    "            head_mask=head_mask,\n",
    "            inputs_embeds=inputs_embeds,\n",
    "        )\n",
    "\n",
    "        hidden_states = transformer_outputs[0]\n",
    "\n",
    "        rewards = self.v_head(hidden_states).squeeze(-1)\n",
    "        chosen_end_scores = []\n",
    "        rejected_end_scores = []\n",
    "\n",
    "        # Split the inputs and rewards into two parts, chosen and rejected\n",
    "        assert len(input_ids.shape) == 2\n",
    "        bs = input_ids.shape[0] // 2\n",
    "        chosen = input_ids[:bs]\n",
    "        rejected = input_ids[bs:]\n",
    "        chosen_rewards = rewards[:bs]\n",
    "        rejected_rewards = rewards[bs:]\n",
    "\n",
    "        loss = 0\n",
    "        inference = False\n",
    "        for i in range(bs):\n",
    "            if torch.all(torch.eq(chosen[i], rejected[i])).item():\n",
    "                c_inds = (chosen[i] == self.PAD_ID).nonzero()\n",
    "                c_ind = c_inds[0].item() if len(c_inds) > 0 else chosen.shape[1]\n",
    "                chosen_end_scores.append(chosen_rewards[i, c_ind - 1])\n",
    "                inference = True\n",
    "                continue\n",
    "\n",
    "            # Check if there is any padding otherwise take length of sequence\n",
    "            c_inds = (chosen[i] == self.PAD_ID).nonzero()\n",
    "            c_ind = c_inds[0].item() if len(c_inds) > 0 else chosen.shape[1]\n",
    "            r_inds = (rejected[i] == self.PAD_ID).nonzero()\n",
    "            r_ind = r_inds[0].item() if len(r_inds) > 0 else rejected.shape[1]\n",
    "            end_ind = max(c_ind, r_ind)\n",
    "\n",
    "            # Retrieve first index where trajectories diverge\n",
    "            divergence_ind = (chosen[i] != rejected[i]).nonzero()[0]\n",
    "            assert divergence_ind > 0\n",
    "\n",
    "            # Index into the correct rewards\n",
    "            c_truncated_reward = chosen_rewards[i][divergence_ind:end_ind]\n",
    "            r_truncated_reward = rejected_rewards[i][divergence_ind:end_ind]\n",
    "\n",
    "            # Append the last rewards to the list of end scores\n",
    "            chosen_end_scores.append(c_truncated_reward[-1])\n",
    "            rejected_end_scores.append(r_truncated_reward[-1])\n",
    "\n",
    "            # Compute loss based on truncated rewards (ignore padding)\n",
    "            loss += -torch.log(torch.sigmoid(c_truncated_reward - r_truncated_reward)).mean()\n",
    "        loss = loss / bs\n",
    "\n",
    "        if not inference:\n",
    "            chosen_end_scores = torch.stack(chosen_end_scores)\n",
    "            rejected_end_scores = torch.stack(rejected_end_scores)\n",
    "\n",
    "        if inference:\n",
    "            chosen_end_scores = torch.stack(chosen_end_scores)\n",
    "            return {\"chosen_end_scores\": chosen_end_scores}\n",
    "\n",
    "        return {\n",
    "            \"loss\": loss,\n",
    "            \"chosen_end_scores\": chosen_end_scores,\n",
    "            \"rejected_end_scores\": rejected_end_scores,\n",
    "        }\n"
   ]
  },
  {
   "cell_type": "code",
   "execution_count": 5,
   "id": "cc6019d2-185c-4d10-b069-1ef7e833c5e3",
   "metadata": {},
   "outputs": [],
   "source": [
    "# sys.path.append(\"trlx/examples/summarize_rlhf/reward_model/\")"
   ]
  },
  {
   "cell_type": "code",
   "execution_count": 6,
   "id": "889be972-0cde-4164-a888-a7b1c57986a1",
   "metadata": {},
   "outputs": [],
   "source": [
    "import os\n",
    "\n",
    "import torch\n",
    "from datasets import load_dataset\n",
    "# from reward_model import GPTRewardModel\n",
    "from torch.utils.data import Dataset\n",
    "from tqdm import tqdm\n",
    "from transformers import AutoTokenizer, Trainer, TrainingArguments\n",
    "\n",
    "def create_comparison_dataset_ls(path: str):\n",
    "    with codecs.open(data_path, 'r', encoding='utf-8') as f:\n",
    "          data = json.load(f)\n",
    "    pairs = []\n",
    "    for sample in data:\n",
    "        chosen = None\n",
    "        rejected = None\n",
    "        for annotation in sample['annotations']:\n",
    "            if annotation['result'][0]['value']['selected'] == 'left':\n",
    "                chosen = sample['data']['prompt'] + '\\n' + sample['data']['answer1']\n",
    "                rejected = sample['data']['prompt'] + '\\n' + sample['data']['answer2']\n",
    "            else:\n",
    "                chosen = sample['data']['prompt'] + '\\n' + sample['data']['answer2']\n",
    "                rejected = sample['data']['prompt'] + '\\n' + sample['data']['answer1']\n",
    "            pair = {\n",
    "                'chosen': chosen,\n",
    "                'rejected': rejected\n",
    "            }\n",
    "            pairs.append(pair)\n",
    "    return pairs\n",
    "\n",
    "class PairwiseDataset(Dataset):\n",
    "    def __init__(self, pairs, tokenizer, max_length):\n",
    "        self.chosen_input_ids = []\n",
    "        self.chosen_attn_masks = []\n",
    "        self.rejected_input_ids = []\n",
    "        self.rejected_attn_masks = []\n",
    "        for pair in tqdm(pairs):\n",
    "            chosen, rejected = pair[\"chosen\"], pair[\"rejected\"]\n",
    "            chosen_encodings_dict = tokenizer(\n",
    "                \"<|startoftext|>\" + chosen + \"<|endoftext|>\",\n",
    "                truncation=True,\n",
    "                max_length=max_length,\n",
    "                padding=\"max_length\",\n",
    "                return_tensors=\"pt\",\n",
    "            )\n",
    "            rejected_encodings_dict = tokenizer(\n",
    "                \"<|startoftext|>\" + rejected + \"<|endoftext|>\",\n",
    "                truncation=True,\n",
    "                max_length=max_length,\n",
    "                padding=\"max_length\",\n",
    "                return_tensors=\"pt\",\n",
    "            )\n",
    "            self.chosen_input_ids.append(chosen_encodings_dict[\"input_ids\"])\n",
    "            self.chosen_attn_masks.append(chosen_encodings_dict[\"attention_mask\"])\n",
    "            self.rejected_input_ids.append(rejected_encodings_dict[\"input_ids\"])\n",
    "            self.rejected_attn_masks.append(rejected_encodings_dict[\"attention_mask\"])\n",
    "\n",
    "    def __len__(self):\n",
    "        return len(self.chosen_input_ids)\n",
    "\n",
    "    def __getitem__(self, idx):\n",
    "        return (\n",
    "            self.chosen_input_ids[idx],\n",
    "            self.chosen_attn_masks[idx],\n",
    "            self.rejected_input_ids[idx],\n",
    "            self.rejected_attn_masks[idx],\n",
    "        )\n",
    "\n",
    "\n",
    "class DataCollatorReward:\n",
    "    def __call__(self, data):\n",
    "        batch = {}\n",
    "        batch[\"input_ids\"] = torch.cat([f[0] for f in data] + [f[2] for f in data])\n",
    "        batch[\"attention_mask\"] = torch.cat([f[1] for f in data] + [f[3] for f in data])\n",
    "        batch[\"labels\"] = torch.tensor([0] * len(data) + [1] * len(data))\n",
    "        return batch\n",
    "\n",
    "\n",
    "def compute_metrics(eval_preds):\n",
    "    chosen_end_scores = eval_preds.predictions[0]  # chosen scores\n",
    "    rejected_end_scores = eval_preds.predictions[1]  # rejected scores\n",
    "\n",
    "    result = {}\n",
    "    acc = sum(chosen_end_scores > rejected_end_scores) / len(rejected_end_scores)\n",
    "    result[\"accuracy\"] = acc\n",
    "\n",
    "    return result"
   ]
  },
  {
   "cell_type": "raw",
   "id": "53185016-59ad-4626-aef7-54b54cd83d4f",
   "metadata": {},
   "source": [
    "from transformers import AutoModelForCausalLM, AutoTokenizer"
   ]
  },
  {
   "cell_type": "raw",
   "id": "4fc0feee-94ff-422b-b479-b2506141f152",
   "metadata": {},
   "source": [
    "hhd = AutoModelForCausalLM.from_pretrained(\"gpt2\")"
   ]
  },
  {
   "cell_type": "code",
   "execution_count": 7,
   "id": "59077ca1-66d2-4b0b-b986-c0f5c95d3ab0",
   "metadata": {},
   "outputs": [],
   "source": [
    "tokenizer = AutoTokenizer.from_pretrained(\"gpt2\")\n",
    "tokenizer.pad_token = tokenizer.eos_token"
   ]
  },
  {
   "cell_type": "code",
   "execution_count": 8,
   "id": "d7c851e0-9fc7-43a6-8308-024dd350c783",
   "metadata": {},
   "outputs": [],
   "source": [
    "if not os.path.exists(\"rm_checkpoint\"):\n",
    "    os.mkdir(\"rm_checkpoint\")"
   ]
  },
  {
   "cell_type": "code",
   "execution_count": 16,
   "id": "266a67df-3bc0-4237-a585-7b0311a6d51e",
   "metadata": {},
   "outputs": [],
   "source": [
    "# Initialize the reward model from the GPT-2 model (optionally SFT GPT-2)\n",
    "model = GPTRewardModel(\"gpt2\")"
   ]
  },
  {
   "cell_type": "code",
   "execution_count": 17,
   "id": "a282b83a-1a0e-43da-bc91-7ee4cb90d2b1",
   "metadata": {},
   "outputs": [],
   "source": [
    "# Freeze the first 70% of the hidden layers of the reward model backbone\n",
    "layers = model.transformer.h\n",
    "num_layers = len(layers)\n",
    "num_unfrozen = int(0.3 * num_layers)\n",
    "for layer in layers[:-num_unfrozen]:\n",
    "    layer.requires_grad_(False)"
   ]
  },
  {
   "cell_type": "code",
   "execution_count": 18,
   "id": "21b7fdf8-edfc-4935-b1d8-21e091df3643",
   "metadata": {},
   "outputs": [],
   "source": [
    "# Create the comparisons datasets\n",
    "pairs = create_comparison_dataset_ls(data_path)\n",
    "train_size = int(0.8 * len(pairs))  # 80% training, 20% validation\n",
    "train_pairs = pairs[0:train_size]\n",
    "val_pairs = pairs[train_size:]"
   ]
  },
  {
   "cell_type": "code",
   "execution_count": 19,
   "id": "cd3c6834-cffa-4ef3-8001-2d06d3c573e6",
   "metadata": {},
   "outputs": [
    {
     "name": "stderr",
     "output_type": "stream",
     "text": [
      "100%|█████████████████████████████████████████| 25/25 [00:00<00:00, 1188.04it/s]\n",
      "100%|███████████████████████████████████████████| 7/7 [00:00<00:00, 1894.94it/s]\n"
     ]
    }
   ],
   "source": [
    "# Make pairwise datasets for training\n",
    "max_length = 550\n",
    "train_dataset = PairwiseDataset(train_pairs, tokenizer, max_length=max_length)\n",
    "val_dataset = PairwiseDataset(val_pairs, tokenizer, max_length=max_length)"
   ]
  },
  {
   "cell_type": "code",
   "execution_count": 20,
   "id": "0b1c01db-365c-455d-b6e2-7dcdf9b558e7",
   "metadata": {},
   "outputs": [],
   "source": [
    "# Create the collator to gather batches of pairwise comparisons\n",
    "data_collator = DataCollatorReward()"
   ]
  },
  {
   "cell_type": "code",
   "execution_count": 23,
   "id": "3dadea2c-09d0-4c9d-a668-f4721c4f1445",
   "metadata": {},
   "outputs": [
    {
     "name": "stderr",
     "output_type": "stream",
     "text": [
      "/opt/anaconda3/envs/rlhf/lib/python3.10/site-packages/transformers/training_args.py:1474: FutureWarning: `evaluation_strategy` is deprecated and will be removed in version 4.46 of 🤗 Transformers. Use `eval_strategy` instead\n",
      "  warnings.warn(\n"
     ]
    },
    {
     "data": {
      "text/html": [
       "\n",
       "    <div>\n",
       "      \n",
       "      <progress value='50' max='50' style='width:300px; height:20px; vertical-align: middle;'></progress>\n",
       "      [50/50 03:50, Epoch 28/50]\n",
       "    </div>\n",
       "    <table border=\"1\" class=\"dataframe\">\n",
       "  <thead>\n",
       " <tr style=\"text-align: left;\">\n",
       "      <th>Step</th>\n",
       "      <th>Training Loss</th>\n",
       "      <th>Validation Loss</th>\n",
       "      <th>Accuracy</th>\n",
       "    </tr>\n",
       "  </thead>\n",
       "  <tbody>\n",
       "    <tr>\n",
       "      <td>10</td>\n",
       "      <td>1.074600</td>\n",
       "      <td>0.954774</td>\n",
       "      <td>0.571429</td>\n",
       "    </tr>\n",
       "    <tr>\n",
       "      <td>20</td>\n",
       "      <td>1.038000</td>\n",
       "      <td>0.950555</td>\n",
       "      <td>0.571429</td>\n",
       "    </tr>\n",
       "    <tr>\n",
       "      <td>30</td>\n",
       "      <td>1.045400</td>\n",
       "      <td>0.944406</td>\n",
       "      <td>0.571429</td>\n",
       "    </tr>\n",
       "    <tr>\n",
       "      <td>40</td>\n",
       "      <td>1.044900</td>\n",
       "      <td>0.935911</td>\n",
       "      <td>0.714286</td>\n",
       "    </tr>\n",
       "    <tr>\n",
       "      <td>50</td>\n",
       "      <td>1.008400</td>\n",
       "      <td>0.925776</td>\n",
       "      <td>0.714286</td>\n",
       "    </tr>\n",
       "  </tbody>\n",
       "</table><p>"
      ],
      "text/plain": [
       "<IPython.core.display.HTML object>"
      ]
     },
     "metadata": {},
     "output_type": "display_data"
    },
    {
     "data": {
      "text/plain": [
       "TrainOutput(global_step=50, training_loss=1.0422474670410156, metrics={'train_runtime': 240.1703, 'train_samples_per_second': 5.205, 'train_steps_per_second': 0.208, 'total_flos': 0.0, 'train_loss': 1.0422474670410156, 'epoch': 28.571428571428573})"
      ]
     },
     "execution_count": 23,
     "metadata": {},
     "output_type": "execute_result"
    }
   ],
   "source": [
    "training_args = TrainingArguments(\n",
    "    output_dir=\"rm_checkpoint/\",\n",
    "    num_train_epochs=50,\n",
    "    logging_steps=10,\n",
    "    gradient_accumulation_steps=4,\n",
    "    save_strategy=\"steps\",\n",
    "    evaluation_strategy=\"steps\",\n",
    "    per_device_train_batch_size=4,\n",
    "    per_device_eval_batch_size=4,\n",
    "    eval_accumulation_steps=1,\n",
    "    eval_steps=10,\n",
    "    save_steps=10,\n",
    "    warmup_steps=100,\n",
    "    logging_dir=\"./logs\",\n",
    "    fp16=False, ## 说是mps不支持fp16。但我是在不清楚mps在哪里被起用了。\n",
    "    bf16=False,\n",
    "    learning_rate=1e-5,\n",
    "    # deepspeed=\"ds_config_gpt_j.json\",\n",
    "    save_total_limit=1,\n",
    "    report_to=\"none\" ## 如果不想连接wandb的话，就设置这个。参考：https://discuss.huggingface.co/t/how-to-turn-wandb-off-in-trainer/6237/3。\n",
    ")\n",
    "\n",
    "Trainer(\n",
    "    model=model,\n",
    "    args=training_args,\n",
    "    train_dataset=train_dataset,\n",
    "    compute_metrics=compute_metrics,\n",
    "    eval_dataset=val_dataset,\n",
    "    data_collator=data_collator,\n",
    ").train()"
   ]
  },
  {
   "cell_type": "markdown",
   "id": "18b30149-833b-421b-8d4a-2cffa643c623",
   "metadata": {},
   "source": [
    "# ppo"
   ]
  },
  {
   "cell_type": "code",
   "execution_count": 24,
   "id": "e5aef947-52bc-487f-ad5e-2e44d76c7b12",
   "metadata": {},
   "outputs": [],
   "source": [
    "import os\n",
    "from typing import List\n",
    "\n",
    "import torch\n",
    "from datasets import load_dataset\n",
    "# from reward_model.reward_model import GPTRewardModel\n",
    "from tqdm import tqdm\n",
    "from transformers import AutoTokenizer\n",
    "\n",
    "import trlx\n",
    "from trlx.data.configs import (\n",
    "    ModelConfig,\n",
    "    OptimizerConfig,\n",
    "    SchedulerConfig,\n",
    "    TokenizerConfig,\n",
    "    TrainConfig,\n",
    "    TRLConfig,\n",
    ")\n",
    "from trlx.models.modeling_ppo import PPOConfig"
   ]
  },
  {
   "cell_type": "code",
   "execution_count": 66,
   "id": "63eb144d-fbf3-4c00-b19b-79c026c489e6",
   "metadata": {},
   "outputs": [],
   "source": [
    "REWARD_CHECKPOINT_PATH = \"rm_checkpoint/checkpoint-50/rng_state.pth\"\n",
    "SFT_MODEL_PATH = \"gpt2\""
   ]
  },
  {
   "cell_type": "code",
   "execution_count": 53,
   "id": "85a02387-fc16-42b4-b2f1-408aa40f2134",
   "metadata": {},
   "outputs": [],
   "source": [
    "config = TRLConfig(\n",
    "    train=TrainConfig(\n",
    "        seq_length=550,\n",
    "        epochs=50,\n",
    "        total_steps=100000,\n",
    "        batch_size=4,\n",
    "        checkpoint_interval=10000,\n",
    "        eval_interval=200,\n",
    "        pipeline=\"PromptPipeline\",\n",
    "        trainer=\"AcceleratePPOTrainer\",\n",
    "    ),\n",
    "    model=ModelConfig(\n",
    "        model_path=\"gpt2\",\n",
    "        num_layers_unfrozen=8,\n",
    "    ),\n",
    "    tokenizer=TokenizerConfig(\n",
    "        tokenizer_path=\"gpt2\",\n",
    "        truncation_side=\"right\",\n",
    "    ),\n",
    "    optimizer=OptimizerConfig(\n",
    "        name=\"adamw\",\n",
    "        kwargs={\n",
    "            \"lr\": 5.0e-6,\n",
    "            \"betas\": [0.9, 0.999],\n",
    "            \"eps\": 1.0e-8,\n",
    "            \"weight_decay\": 0.01,\n",
    "        },\n",
    "    ),\n",
    "    scheduler=SchedulerConfig(\n",
    "        name=\"cosine_annealing\",\n",
    "        kwargs={\n",
    "            \"T_max\": 100000,\n",
    "            \"eta_min\": 5.0e-6,\n",
    "        },\n",
    "    ),\n",
    "    method=PPOConfig(\n",
    "        name=\"PPOConfig\",\n",
    "        num_rollouts=128,\n",
    "        chunk_size=16,\n",
    "        ppo_epochs=4,\n",
    "        init_kl_coef=0.1,\n",
    "        target=6,\n",
    "        horizon=10000,\n",
    "        gamma=1,\n",
    "        lam=0.95,\n",
    "        cliprange=0.2,\n",
    "        cliprange_value=0.2,\n",
    "        vf_coef=0.2,\n",
    "        scale_reward=None,\n",
    "        ref_mean=None,\n",
    "        ref_std=None,\n",
    "        cliprange_reward=10,\n",
    "        gen_kwargs={\n",
    "            \"max_new_tokens\": 50,\n",
    "        },\n",
    "    ),\n",
    ")"
   ]
  },
  {
   "cell_type": "code",
   "execution_count": 62,
   "id": "272ebe5d-869c-4c0c-b259-49f40d9f126a",
   "metadata": {},
   "outputs": [],
   "source": [
    "# Load the pre-trained reward model\n",
    "rw_tokenizer = AutoTokenizer.from_pretrained(\"gpt2\")\n",
    "rw_tokenizer.pad_token = rw_tokenizer.eos_token"
   ]
  },
  {
   "cell_type": "code",
   "execution_count": 64,
   "id": "408716b5-e516-4742-ace9-ae47c22e015a",
   "metadata": {},
   "outputs": [],
   "source": [
    "rw_model = GPTRewardModel(SFT_MODEL_PATH)"
   ]
  },
  {
   "cell_type": "code",
   "execution_count": 67,
   "id": "6c99ad17-698b-44a4-aa85-7d9283459736",
   "metadata": {},
   "outputs": [
    {
     "ename": "RuntimeError",
     "evalue": "Error(s) in loading state_dict for GPTRewardModel:\n\tMissing key(s) in state_dict: \"transformer.wte.weight\", \"transformer.wpe.weight\", \"transformer.h.0.ln_1.weight\", \"transformer.h.0.ln_1.bias\", \"transformer.h.0.attn.c_attn.weight\", \"transformer.h.0.attn.c_attn.bias\", \"transformer.h.0.attn.c_proj.weight\", \"transformer.h.0.attn.c_proj.bias\", \"transformer.h.0.ln_2.weight\", \"transformer.h.0.ln_2.bias\", \"transformer.h.0.mlp.c_fc.weight\", \"transformer.h.0.mlp.c_fc.bias\", \"transformer.h.0.mlp.c_proj.weight\", \"transformer.h.0.mlp.c_proj.bias\", \"transformer.h.1.ln_1.weight\", \"transformer.h.1.ln_1.bias\", \"transformer.h.1.attn.c_attn.weight\", \"transformer.h.1.attn.c_attn.bias\", \"transformer.h.1.attn.c_proj.weight\", \"transformer.h.1.attn.c_proj.bias\", \"transformer.h.1.ln_2.weight\", \"transformer.h.1.ln_2.bias\", \"transformer.h.1.mlp.c_fc.weight\", \"transformer.h.1.mlp.c_fc.bias\", \"transformer.h.1.mlp.c_proj.weight\", \"transformer.h.1.mlp.c_proj.bias\", \"transformer.h.2.ln_1.weight\", \"transformer.h.2.ln_1.bias\", \"transformer.h.2.attn.c_attn.weight\", \"transformer.h.2.attn.c_attn.bias\", \"transformer.h.2.attn.c_proj.weight\", \"transformer.h.2.attn.c_proj.bias\", \"transformer.h.2.ln_2.weight\", \"transformer.h.2.ln_2.bias\", \"transformer.h.2.mlp.c_fc.weight\", \"transformer.h.2.mlp.c_fc.bias\", \"transformer.h.2.mlp.c_proj.weight\", \"transformer.h.2.mlp.c_proj.bias\", \"transformer.h.3.ln_1.weight\", \"transformer.h.3.ln_1.bias\", \"transformer.h.3.attn.c_attn.weight\", \"transformer.h.3.attn.c_attn.bias\", \"transformer.h.3.attn.c_proj.weight\", \"transformer.h.3.attn.c_proj.bias\", \"transformer.h.3.ln_2.weight\", \"transformer.h.3.ln_2.bias\", \"transformer.h.3.mlp.c_fc.weight\", \"transformer.h.3.mlp.c_fc.bias\", \"transformer.h.3.mlp.c_proj.weight\", \"transformer.h.3.mlp.c_proj.bias\", \"transformer.h.4.ln_1.weight\", \"transformer.h.4.ln_1.bias\", \"transformer.h.4.attn.c_attn.weight\", \"transformer.h.4.attn.c_attn.bias\", \"transformer.h.4.attn.c_proj.weight\", \"transformer.h.4.attn.c_proj.bias\", \"transformer.h.4.ln_2.weight\", \"transformer.h.4.ln_2.bias\", \"transformer.h.4.mlp.c_fc.weight\", \"transformer.h.4.mlp.c_fc.bias\", \"transformer.h.4.mlp.c_proj.weight\", \"transformer.h.4.mlp.c_proj.bias\", \"transformer.h.5.ln_1.weight\", \"transformer.h.5.ln_1.bias\", \"transformer.h.5.attn.c_attn.weight\", \"transformer.h.5.attn.c_attn.bias\", \"transformer.h.5.attn.c_proj.weight\", \"transformer.h.5.attn.c_proj.bias\", \"transformer.h.5.ln_2.weight\", \"transformer.h.5.ln_2.bias\", \"transformer.h.5.mlp.c_fc.weight\", \"transformer.h.5.mlp.c_fc.bias\", \"transformer.h.5.mlp.c_proj.weight\", \"transformer.h.5.mlp.c_proj.bias\", \"transformer.h.6.ln_1.weight\", \"transformer.h.6.ln_1.bias\", \"transformer.h.6.attn.c_attn.weight\", \"transformer.h.6.attn.c_attn.bias\", \"transformer.h.6.attn.c_proj.weight\", \"transformer.h.6.attn.c_proj.bias\", \"transformer.h.6.ln_2.weight\", \"transformer.h.6.ln_2.bias\", \"transformer.h.6.mlp.c_fc.weight\", \"transformer.h.6.mlp.c_fc.bias\", \"transformer.h.6.mlp.c_proj.weight\", \"transformer.h.6.mlp.c_proj.bias\", \"transformer.h.7.ln_1.weight\", \"transformer.h.7.ln_1.bias\", \"transformer.h.7.attn.c_attn.weight\", \"transformer.h.7.attn.c_attn.bias\", \"transformer.h.7.attn.c_proj.weight\", \"transformer.h.7.attn.c_proj.bias\", \"transformer.h.7.ln_2.weight\", \"transformer.h.7.ln_2.bias\", \"transformer.h.7.mlp.c_fc.weight\", \"transformer.h.7.mlp.c_fc.bias\", \"transformer.h.7.mlp.c_proj.weight\", \"transformer.h.7.mlp.c_proj.bias\", \"transformer.h.8.ln_1.weight\", \"transformer.h.8.ln_1.bias\", \"transformer.h.8.attn.c_attn.weight\", \"transformer.h.8.attn.c_attn.bias\", \"transformer.h.8.attn.c_proj.weight\", \"transformer.h.8.attn.c_proj.bias\", \"transformer.h.8.ln_2.weight\", \"transformer.h.8.ln_2.bias\", \"transformer.h.8.mlp.c_fc.weight\", \"transformer.h.8.mlp.c_fc.bias\", \"transformer.h.8.mlp.c_proj.weight\", \"transformer.h.8.mlp.c_proj.bias\", \"transformer.h.9.ln_1.weight\", \"transformer.h.9.ln_1.bias\", \"transformer.h.9.attn.c_attn.weight\", \"transformer.h.9.attn.c_attn.bias\", \"transformer.h.9.attn.c_proj.weight\", \"transformer.h.9.attn.c_proj.bias\", \"transformer.h.9.ln_2.weight\", \"transformer.h.9.ln_2.bias\", \"transformer.h.9.mlp.c_fc.weight\", \"transformer.h.9.mlp.c_fc.bias\", \"transformer.h.9.mlp.c_proj.weight\", \"transformer.h.9.mlp.c_proj.bias\", \"transformer.h.10.ln_1.weight\", \"transformer.h.10.ln_1.bias\", \"transformer.h.10.attn.c_attn.weight\", \"transformer.h.10.attn.c_attn.bias\", \"transformer.h.10.attn.c_proj.weight\", \"transformer.h.10.attn.c_proj.bias\", \"transformer.h.10.ln_2.weight\", \"transformer.h.10.ln_2.bias\", \"transformer.h.10.mlp.c_fc.weight\", \"transformer.h.10.mlp.c_fc.bias\", \"transformer.h.10.mlp.c_proj.weight\", \"transformer.h.10.mlp.c_proj.bias\", \"transformer.h.11.ln_1.weight\", \"transformer.h.11.ln_1.bias\", \"transformer.h.11.attn.c_attn.weight\", \"transformer.h.11.attn.c_attn.bias\", \"transformer.h.11.attn.c_proj.weight\", \"transformer.h.11.attn.c_proj.bias\", \"transformer.h.11.ln_2.weight\", \"transformer.h.11.ln_2.bias\", \"transformer.h.11.mlp.c_fc.weight\", \"transformer.h.11.mlp.c_fc.bias\", \"transformer.h.11.mlp.c_proj.weight\", \"transformer.h.11.mlp.c_proj.bias\", \"transformer.ln_f.weight\", \"transformer.ln_f.bias\", \"v_head.weight\". \n\tUnexpected key(s) in state_dict: \"python\", \"numpy\", \"cpu\". ",
     "output_type": "error",
     "traceback": [
      "\u001b[0;31m---------------------------------------------------------------------------\u001b[0m",
      "\u001b[0;31mRuntimeError\u001b[0m                              Traceback (most recent call last)",
      "Cell \u001b[0;32mIn[67], line 1\u001b[0m\n\u001b[0;32m----> 1\u001b[0m \u001b[43mrw_model\u001b[49m\u001b[38;5;241;43m.\u001b[39;49m\u001b[43mload_state_dict\u001b[49m\u001b[43m(\u001b[49m\u001b[43mtorch\u001b[49m\u001b[38;5;241;43m.\u001b[39;49m\u001b[43mload\u001b[49m\u001b[43m(\u001b[49m\u001b[43mREWARD_CHECKPOINT_PATH\u001b[49m\u001b[43m)\u001b[49m\u001b[43m)\u001b[49m\n",
      "File \u001b[0;32m/opt/anaconda3/envs/rlhf/lib/python3.10/site-packages/torch/nn/modules/module.py:2189\u001b[0m, in \u001b[0;36mModule.load_state_dict\u001b[0;34m(self, state_dict, strict, assign)\u001b[0m\n\u001b[1;32m   2184\u001b[0m         error_msgs\u001b[38;5;241m.\u001b[39minsert(\n\u001b[1;32m   2185\u001b[0m             \u001b[38;5;241m0\u001b[39m, \u001b[38;5;124m'\u001b[39m\u001b[38;5;124mMissing key(s) in state_dict: \u001b[39m\u001b[38;5;132;01m{}\u001b[39;00m\u001b[38;5;124m. \u001b[39m\u001b[38;5;124m'\u001b[39m\u001b[38;5;241m.\u001b[39mformat(\n\u001b[1;32m   2186\u001b[0m                 \u001b[38;5;124m'\u001b[39m\u001b[38;5;124m, \u001b[39m\u001b[38;5;124m'\u001b[39m\u001b[38;5;241m.\u001b[39mjoin(\u001b[38;5;124mf\u001b[39m\u001b[38;5;124m'\u001b[39m\u001b[38;5;124m\"\u001b[39m\u001b[38;5;132;01m{\u001b[39;00mk\u001b[38;5;132;01m}\u001b[39;00m\u001b[38;5;124m\"\u001b[39m\u001b[38;5;124m'\u001b[39m \u001b[38;5;28;01mfor\u001b[39;00m k \u001b[38;5;129;01min\u001b[39;00m missing_keys)))\n\u001b[1;32m   2188\u001b[0m \u001b[38;5;28;01mif\u001b[39;00m \u001b[38;5;28mlen\u001b[39m(error_msgs) \u001b[38;5;241m>\u001b[39m \u001b[38;5;241m0\u001b[39m:\n\u001b[0;32m-> 2189\u001b[0m     \u001b[38;5;28;01mraise\u001b[39;00m \u001b[38;5;167;01mRuntimeError\u001b[39;00m(\u001b[38;5;124m'\u001b[39m\u001b[38;5;124mError(s) in loading state_dict for \u001b[39m\u001b[38;5;132;01m{}\u001b[39;00m\u001b[38;5;124m:\u001b[39m\u001b[38;5;130;01m\\n\u001b[39;00m\u001b[38;5;130;01m\\t\u001b[39;00m\u001b[38;5;132;01m{}\u001b[39;00m\u001b[38;5;124m'\u001b[39m\u001b[38;5;241m.\u001b[39mformat(\n\u001b[1;32m   2190\u001b[0m                        \u001b[38;5;28mself\u001b[39m\u001b[38;5;241m.\u001b[39m\u001b[38;5;18m__class__\u001b[39m\u001b[38;5;241m.\u001b[39m\u001b[38;5;18m__name__\u001b[39m, \u001b[38;5;124m\"\u001b[39m\u001b[38;5;130;01m\\n\u001b[39;00m\u001b[38;5;130;01m\\t\u001b[39;00m\u001b[38;5;124m\"\u001b[39m\u001b[38;5;241m.\u001b[39mjoin(error_msgs)))\n\u001b[1;32m   2191\u001b[0m \u001b[38;5;28;01mreturn\u001b[39;00m _IncompatibleKeys(missing_keys, unexpected_keys)\n",
      "\u001b[0;31mRuntimeError\u001b[0m: Error(s) in loading state_dict for GPTRewardModel:\n\tMissing key(s) in state_dict: \"transformer.wte.weight\", \"transformer.wpe.weight\", \"transformer.h.0.ln_1.weight\", \"transformer.h.0.ln_1.bias\", \"transformer.h.0.attn.c_attn.weight\", \"transformer.h.0.attn.c_attn.bias\", \"transformer.h.0.attn.c_proj.weight\", \"transformer.h.0.attn.c_proj.bias\", \"transformer.h.0.ln_2.weight\", \"transformer.h.0.ln_2.bias\", \"transformer.h.0.mlp.c_fc.weight\", \"transformer.h.0.mlp.c_fc.bias\", \"transformer.h.0.mlp.c_proj.weight\", \"transformer.h.0.mlp.c_proj.bias\", \"transformer.h.1.ln_1.weight\", \"transformer.h.1.ln_1.bias\", \"transformer.h.1.attn.c_attn.weight\", \"transformer.h.1.attn.c_attn.bias\", \"transformer.h.1.attn.c_proj.weight\", \"transformer.h.1.attn.c_proj.bias\", \"transformer.h.1.ln_2.weight\", \"transformer.h.1.ln_2.bias\", \"transformer.h.1.mlp.c_fc.weight\", \"transformer.h.1.mlp.c_fc.bias\", \"transformer.h.1.mlp.c_proj.weight\", \"transformer.h.1.mlp.c_proj.bias\", \"transformer.h.2.ln_1.weight\", \"transformer.h.2.ln_1.bias\", \"transformer.h.2.attn.c_attn.weight\", \"transformer.h.2.attn.c_attn.bias\", \"transformer.h.2.attn.c_proj.weight\", \"transformer.h.2.attn.c_proj.bias\", \"transformer.h.2.ln_2.weight\", \"transformer.h.2.ln_2.bias\", \"transformer.h.2.mlp.c_fc.weight\", \"transformer.h.2.mlp.c_fc.bias\", \"transformer.h.2.mlp.c_proj.weight\", \"transformer.h.2.mlp.c_proj.bias\", \"transformer.h.3.ln_1.weight\", \"transformer.h.3.ln_1.bias\", \"transformer.h.3.attn.c_attn.weight\", \"transformer.h.3.attn.c_attn.bias\", \"transformer.h.3.attn.c_proj.weight\", \"transformer.h.3.attn.c_proj.bias\", \"transformer.h.3.ln_2.weight\", \"transformer.h.3.ln_2.bias\", \"transformer.h.3.mlp.c_fc.weight\", \"transformer.h.3.mlp.c_fc.bias\", \"transformer.h.3.mlp.c_proj.weight\", \"transformer.h.3.mlp.c_proj.bias\", \"transformer.h.4.ln_1.weight\", \"transformer.h.4.ln_1.bias\", \"transformer.h.4.attn.c_attn.weight\", \"transformer.h.4.attn.c_attn.bias\", \"transformer.h.4.attn.c_proj.weight\", \"transformer.h.4.attn.c_proj.bias\", \"transformer.h.4.ln_2.weight\", \"transformer.h.4.ln_2.bias\", \"transformer.h.4.mlp.c_fc.weight\", \"transformer.h.4.mlp.c_fc.bias\", \"transformer.h.4.mlp.c_proj.weight\", \"transformer.h.4.mlp.c_proj.bias\", \"transformer.h.5.ln_1.weight\", \"transformer.h.5.ln_1.bias\", \"transformer.h.5.attn.c_attn.weight\", \"transformer.h.5.attn.c_attn.bias\", \"transformer.h.5.attn.c_proj.weight\", \"transformer.h.5.attn.c_proj.bias\", \"transformer.h.5.ln_2.weight\", \"transformer.h.5.ln_2.bias\", \"transformer.h.5.mlp.c_fc.weight\", \"transformer.h.5.mlp.c_fc.bias\", \"transformer.h.5.mlp.c_proj.weight\", \"transformer.h.5.mlp.c_proj.bias\", \"transformer.h.6.ln_1.weight\", \"transformer.h.6.ln_1.bias\", \"transformer.h.6.attn.c_attn.weight\", \"transformer.h.6.attn.c_attn.bias\", \"transformer.h.6.attn.c_proj.weight\", \"transformer.h.6.attn.c_proj.bias\", \"transformer.h.6.ln_2.weight\", \"transformer.h.6.ln_2.bias\", \"transformer.h.6.mlp.c_fc.weight\", \"transformer.h.6.mlp.c_fc.bias\", \"transformer.h.6.mlp.c_proj.weight\", \"transformer.h.6.mlp.c_proj.bias\", \"transformer.h.7.ln_1.weight\", \"transformer.h.7.ln_1.bias\", \"transformer.h.7.attn.c_attn.weight\", \"transformer.h.7.attn.c_attn.bias\", \"transformer.h.7.attn.c_proj.weight\", \"transformer.h.7.attn.c_proj.bias\", \"transformer.h.7.ln_2.weight\", \"transformer.h.7.ln_2.bias\", \"transformer.h.7.mlp.c_fc.weight\", \"transformer.h.7.mlp.c_fc.bias\", \"transformer.h.7.mlp.c_proj.weight\", \"transformer.h.7.mlp.c_proj.bias\", \"transformer.h.8.ln_1.weight\", \"transformer.h.8.ln_1.bias\", \"transformer.h.8.attn.c_attn.weight\", \"transformer.h.8.attn.c_attn.bias\", \"transformer.h.8.attn.c_proj.weight\", \"transformer.h.8.attn.c_proj.bias\", \"transformer.h.8.ln_2.weight\", \"transformer.h.8.ln_2.bias\", \"transformer.h.8.mlp.c_fc.weight\", \"transformer.h.8.mlp.c_fc.bias\", \"transformer.h.8.mlp.c_proj.weight\", \"transformer.h.8.mlp.c_proj.bias\", \"transformer.h.9.ln_1.weight\", \"transformer.h.9.ln_1.bias\", \"transformer.h.9.attn.c_attn.weight\", \"transformer.h.9.attn.c_attn.bias\", \"transformer.h.9.attn.c_proj.weight\", \"transformer.h.9.attn.c_proj.bias\", \"transformer.h.9.ln_2.weight\", \"transformer.h.9.ln_2.bias\", \"transformer.h.9.mlp.c_fc.weight\", \"transformer.h.9.mlp.c_fc.bias\", \"transformer.h.9.mlp.c_proj.weight\", \"transformer.h.9.mlp.c_proj.bias\", \"transformer.h.10.ln_1.weight\", \"transformer.h.10.ln_1.bias\", \"transformer.h.10.attn.c_attn.weight\", \"transformer.h.10.attn.c_attn.bias\", \"transformer.h.10.attn.c_proj.weight\", \"transformer.h.10.attn.c_proj.bias\", \"transformer.h.10.ln_2.weight\", \"transformer.h.10.ln_2.bias\", \"transformer.h.10.mlp.c_fc.weight\", \"transformer.h.10.mlp.c_fc.bias\", \"transformer.h.10.mlp.c_proj.weight\", \"transformer.h.10.mlp.c_proj.bias\", \"transformer.h.11.ln_1.weight\", \"transformer.h.11.ln_1.bias\", \"transformer.h.11.attn.c_attn.weight\", \"transformer.h.11.attn.c_attn.bias\", \"transformer.h.11.attn.c_proj.weight\", \"transformer.h.11.attn.c_proj.bias\", \"transformer.h.11.ln_2.weight\", \"transformer.h.11.ln_2.bias\", \"transformer.h.11.mlp.c_fc.weight\", \"transformer.h.11.mlp.c_fc.bias\", \"transformer.h.11.mlp.c_proj.weight\", \"transformer.h.11.mlp.c_proj.bias\", \"transformer.ln_f.weight\", \"transformer.ln_f.bias\", \"v_head.weight\". \n\tUnexpected key(s) in state_dict: \"python\", \"numpy\", \"cpu\". "
     ]
    }
   ],
   "source": [
    "rw_model.load_state_dict(torch.load(REWARD_CHECKPOINT_PATH))"
   ]
  },
  {
   "cell_type": "code",
   "execution_count": null,
   "id": "25c2ede2-31c9-4503-a6a3-9ee03129640b",
   "metadata": {},
   "outputs": [],
   "source": []
  },
  {
   "cell_type": "code",
   "execution_count": null,
   "id": "9aae5c65-3f36-4a0f-a45b-079d071d5010",
   "metadata": {},
   "outputs": [],
   "source": []
  },
  {
   "cell_type": "code",
   "execution_count": null,
   "id": "f2dba55f-cf76-41ae-9e99-f0ba07dcde4c",
   "metadata": {},
   "outputs": [],
   "source": []
  },
  {
   "cell_type": "code",
   "execution_count": null,
   "id": "33dc3f3a-ab22-4d5b-a4fa-2c93c3020bd0",
   "metadata": {},
   "outputs": [],
   "source": []
  },
  {
   "cell_type": "code",
   "execution_count": null,
   "id": "b8dd3f4a-97a2-436a-ad39-80d890190801",
   "metadata": {},
   "outputs": [],
   "source": []
  },
  {
   "cell_type": "code",
   "execution_count": null,
   "id": "97e63f96-8f6b-43d1-a479-823f8ab9b49a",
   "metadata": {},
   "outputs": [],
   "source": []
  },
  {
   "cell_type": "code",
   "execution_count": 54,
   "id": "f331666f-96bb-4cf8-84a0-160d9b0f06bc",
   "metadata": {},
   "outputs": [
    {
     "ename": "UnpicklingError",
     "evalue": "invalid load key, '{'.",
     "output_type": "error",
     "traceback": [
      "\u001b[0;31m---------------------------------------------------------------------------\u001b[0m",
      "\u001b[0;31mUnpicklingError\u001b[0m                           Traceback (most recent call last)",
      "Cell \u001b[0;32mIn[54], line 5\u001b[0m\n\u001b[1;32m      3\u001b[0m rw_tokenizer\u001b[38;5;241m.\u001b[39mpad_token \u001b[38;5;241m=\u001b[39m rw_tokenizer\u001b[38;5;241m.\u001b[39meos_token\n\u001b[1;32m      4\u001b[0m rw_model \u001b[38;5;241m=\u001b[39m GPTRewardModel(SFT_MODEL_PATH)\n\u001b[0;32m----> 5\u001b[0m rw_model\u001b[38;5;241m.\u001b[39mload_state_dict(\u001b[43mtorch\u001b[49m\u001b[38;5;241;43m.\u001b[39;49m\u001b[43mload\u001b[49m\u001b[43m(\u001b[49m\u001b[43mREWARD_CHECKPOINT_PATH\u001b[49m\u001b[43m)\u001b[49m)\n\u001b[1;32m      6\u001b[0m rw_model\u001b[38;5;241m.\u001b[39mhalf()\n\u001b[1;32m      7\u001b[0m rw_model\u001b[38;5;241m.\u001b[39meval()\n",
      "File \u001b[0;32m/opt/anaconda3/envs/rlhf/lib/python3.10/site-packages/torch/serialization.py:1040\u001b[0m, in \u001b[0;36mload\u001b[0;34m(f, map_location, pickle_module, weights_only, mmap, **pickle_load_args)\u001b[0m\n\u001b[1;32m   1038\u001b[0m     \u001b[38;5;28;01mexcept\u001b[39;00m \u001b[38;5;167;01mRuntimeError\u001b[39;00m \u001b[38;5;28;01mas\u001b[39;00m e:\n\u001b[1;32m   1039\u001b[0m         \u001b[38;5;28;01mraise\u001b[39;00m pickle\u001b[38;5;241m.\u001b[39mUnpicklingError(UNSAFE_MESSAGE \u001b[38;5;241m+\u001b[39m \u001b[38;5;28mstr\u001b[39m(e)) \u001b[38;5;28;01mfrom\u001b[39;00m \u001b[38;5;28;01mNone\u001b[39;00m\n\u001b[0;32m-> 1040\u001b[0m \u001b[38;5;28;01mreturn\u001b[39;00m \u001b[43m_legacy_load\u001b[49m\u001b[43m(\u001b[49m\u001b[43mopened_file\u001b[49m\u001b[43m,\u001b[49m\u001b[43m \u001b[49m\u001b[43mmap_location\u001b[49m\u001b[43m,\u001b[49m\u001b[43m \u001b[49m\u001b[43mpickle_module\u001b[49m\u001b[43m,\u001b[49m\u001b[43m \u001b[49m\u001b[38;5;241;43m*\u001b[39;49m\u001b[38;5;241;43m*\u001b[39;49m\u001b[43mpickle_load_args\u001b[49m\u001b[43m)\u001b[49m\n",
      "File \u001b[0;32m/opt/anaconda3/envs/rlhf/lib/python3.10/site-packages/torch/serialization.py:1262\u001b[0m, in \u001b[0;36m_legacy_load\u001b[0;34m(f, map_location, pickle_module, **pickle_load_args)\u001b[0m\n\u001b[1;32m   1256\u001b[0m \u001b[38;5;28;01mif\u001b[39;00m \u001b[38;5;129;01mnot\u001b[39;00m \u001b[38;5;28mhasattr\u001b[39m(f, \u001b[38;5;124m'\u001b[39m\u001b[38;5;124mreadinto\u001b[39m\u001b[38;5;124m'\u001b[39m) \u001b[38;5;129;01mand\u001b[39;00m (\u001b[38;5;241m3\u001b[39m, \u001b[38;5;241m8\u001b[39m, \u001b[38;5;241m0\u001b[39m) \u001b[38;5;241m<\u001b[39m\u001b[38;5;241m=\u001b[39m sys\u001b[38;5;241m.\u001b[39mversion_info \u001b[38;5;241m<\u001b[39m (\u001b[38;5;241m3\u001b[39m, \u001b[38;5;241m8\u001b[39m, \u001b[38;5;241m2\u001b[39m):\n\u001b[1;32m   1257\u001b[0m     \u001b[38;5;28;01mraise\u001b[39;00m \u001b[38;5;167;01mRuntimeError\u001b[39;00m(\n\u001b[1;32m   1258\u001b[0m         \u001b[38;5;124m\"\u001b[39m\u001b[38;5;124mtorch.load does not work with file-like objects that do not implement readinto on Python 3.8.0 and 3.8.1. \u001b[39m\u001b[38;5;124m\"\u001b[39m\n\u001b[1;32m   1259\u001b[0m         \u001b[38;5;124mf\u001b[39m\u001b[38;5;124m\"\u001b[39m\u001b[38;5;124mReceived object of type \u001b[39m\u001b[38;5;130;01m\\\"\u001b[39;00m\u001b[38;5;132;01m{\u001b[39;00m\u001b[38;5;28mtype\u001b[39m(f)\u001b[38;5;132;01m}\u001b[39;00m\u001b[38;5;130;01m\\\"\u001b[39;00m\u001b[38;5;124m. Please update to Python 3.8.2 or newer to restore this \u001b[39m\u001b[38;5;124m\"\u001b[39m\n\u001b[1;32m   1260\u001b[0m         \u001b[38;5;124m\"\u001b[39m\u001b[38;5;124mfunctionality.\u001b[39m\u001b[38;5;124m\"\u001b[39m)\n\u001b[0;32m-> 1262\u001b[0m magic_number \u001b[38;5;241m=\u001b[39m \u001b[43mpickle_module\u001b[49m\u001b[38;5;241;43m.\u001b[39;49m\u001b[43mload\u001b[49m\u001b[43m(\u001b[49m\u001b[43mf\u001b[49m\u001b[43m,\u001b[49m\u001b[43m \u001b[49m\u001b[38;5;241;43m*\u001b[39;49m\u001b[38;5;241;43m*\u001b[39;49m\u001b[43mpickle_load_args\u001b[49m\u001b[43m)\u001b[49m\n\u001b[1;32m   1263\u001b[0m \u001b[38;5;28;01mif\u001b[39;00m magic_number \u001b[38;5;241m!=\u001b[39m MAGIC_NUMBER:\n\u001b[1;32m   1264\u001b[0m     \u001b[38;5;28;01mraise\u001b[39;00m \u001b[38;5;167;01mRuntimeError\u001b[39;00m(\u001b[38;5;124m\"\u001b[39m\u001b[38;5;124mInvalid magic number; corrupt file?\u001b[39m\u001b[38;5;124m\"\u001b[39m)\n",
      "\u001b[0;31mUnpicklingError\u001b[0m: invalid load key, '{'."
     ]
    }
   ],
   "source": [
    "\n",
    "\n",
    "rw_model.half()\n",
    "rw_model.eval()"
   ]
  },
  {
   "cell_type": "code",
   "execution_count": null,
   "id": "de62cdb8-7b5a-417b-b3d8-8835cca5020d",
   "metadata": {},
   "outputs": [],
   "source": []
  },
  {
   "cell_type": "code",
   "execution_count": null,
   "id": "bd0260ec-7c2f-463e-b5b6-5138036c10c9",
   "metadata": {},
   "outputs": [],
   "source": []
  },
  {
   "cell_type": "code",
   "execution_count": null,
   "id": "5b191e07-7789-41d8-843b-72b30459db00",
   "metadata": {},
   "outputs": [],
   "source": []
  },
  {
   "cell_type": "code",
   "execution_count": 41,
   "id": "96b8291c-c4db-4bd9-b8f5-36a0e272bdbb",
   "metadata": {},
   "outputs": [
    {
     "name": "stdout",
     "output_type": "stream",
     "text": [
      "ls: rm_checkpoint/checkpoint-50/trainer_state.bin: No such file or directory\n"
     ]
    },
    {
     "name": "stderr",
     "output_type": "stream",
     "text": [
      "huggingface/tokenizers: The current process just got forked, after parallelism has already been used. Disabling parallelism to avoid deadlocks...\n",
      "To disable this warning, you can either:\n",
      "\t- Avoid using `tokenizers` before the fork if possible\n",
      "\t- Explicitly set the environment variable TOKENIZERS_PARALLELISM=(true | false)\n"
     ]
    }
   ],
   "source": [
    "!ls rm_checkpoint/checkpoint-50/trainer_state.bin\n",
    "# rm_checkpoint/checkpoint-50/training_args.bin"
   ]
  },
  {
   "cell_type": "code",
   "execution_count": 42,
   "id": "6a33f7ae-cc18-4bf2-b9c1-fc2fd8cdc81a",
   "metadata": {},
   "outputs": [
    {
     "name": "stdout",
     "output_type": "stream",
     "text": [
      "rm_checkpoint/checkpoint-50/training_args.bin\n"
     ]
    },
    {
     "name": "stderr",
     "output_type": "stream",
     "text": [
      "huggingface/tokenizers: The current process just got forked, after parallelism has already been used. Disabling parallelism to avoid deadlocks...\n",
      "To disable this warning, you can either:\n",
      "\t- Avoid using `tokenizers` before the fork if possible\n",
      "\t- Explicitly set the environment variable TOKENIZERS_PARALLELISM=(true | false)\n"
     ]
    }
   ],
   "source": [
    "!ls rm_checkpoint/checkpoint-50/training_args.bin"
   ]
  },
  {
   "cell_type": "code",
   "execution_count": null,
   "id": "38b4c959-6257-4c01-99f8-a92a2db5af33",
   "metadata": {},
   "outputs": [],
   "source": []
  }
 ],
 "metadata": {
  "kernelspec": {
   "display_name": "Python 3 (ipykernel)",
   "language": "python",
   "name": "python3"
  },
  "language_info": {
   "codemirror_mode": {
    "name": "ipython",
    "version": 3
   },
   "file_extension": ".py",
   "mimetype": "text/x-python",
   "name": "python",
   "nbconvert_exporter": "python",
   "pygments_lexer": "ipython3",
   "version": "3.12.0"
  }
 },
 "nbformat": 4,
 "nbformat_minor": 5
}
