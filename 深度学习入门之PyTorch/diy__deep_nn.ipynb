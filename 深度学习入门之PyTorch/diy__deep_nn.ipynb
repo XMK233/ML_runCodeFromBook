{
 "cells": [
  {
   "cell_type": "code",
   "execution_count": 14,
   "id": "58adbc45",
   "metadata": {},
   "outputs": [],
   "source": [
    "## 要常用tensor.item()这个方法，似乎可以很容易地获取到向量的值。"
   ]
  },
  {
   "cell_type": "markdown",
   "id": "91fbf580",
   "metadata": {},
   "source": [
    "# 载入库"
   ]
  },
  {
   "cell_type": "code",
   "execution_count": 1,
   "id": "276ed790",
   "metadata": {},
   "outputs": [],
   "source": [
    "import numpy as np\n",
    "import torch\n",
    "from torchvision.datasets import mnist # 导入 pytorch 内置的 mnist 数据\n",
    "\n",
    "from torch import nn\n",
    "from torch.autograd import Variable"
   ]
  },
  {
   "cell_type": "markdown",
   "id": "34df8167",
   "metadata": {},
   "source": [
    "# 载入原始数据以及标准化"
   ]
  },
  {
   "cell_type": "code",
   "execution_count": 2,
   "id": "50aa0551",
   "metadata": {},
   "outputs": [],
   "source": [
    "def data_tf(x):\n",
    "    x = np.array(x, dtype='float32') / 255\n",
    "    x = (x - 0.5) / 0.5 # 标准化，这个技巧之后会讲到\n",
    "    x = x.reshape((-1,)) # 拉平\n",
    "    x = torch.from_numpy(x)\n",
    "    return x\n",
    "\n",
    "train_set = mnist.MNIST('./data', train=True, transform=data_tf, download=True) # 重新载入数据集，申明定义的数据变换\n",
    "test_set = mnist.MNIST('./data', train=False, transform=data_tf, download=True)"
   ]
  },
  {
   "cell_type": "code",
   "execution_count": 3,
   "id": "8b504448",
   "metadata": {},
   "outputs": [],
   "source": [
    "## train_set 的形状大概就像是，\n",
    "# [\n",
    "#     (data, label),\n",
    "#     (data, label),\n",
    "#     (data, label),\n",
    "#     (data, label),\n",
    "#     (data, label),\n",
    "# ]"
   ]
  },
  {
   "cell_type": "code",
   "execution_count": null,
   "id": "319c44ca",
   "metadata": {},
   "outputs": [],
   "source": []
  },
  {
   "cell_type": "markdown",
   "id": "aa2410f6",
   "metadata": {},
   "source": [
    "# 准备数据迭代器"
   ]
  },
  {
   "cell_type": "code",
   "execution_count": 4,
   "id": "5ab733b3",
   "metadata": {},
   "outputs": [],
   "source": [
    "from torch.utils.data import DataLoader\n",
    "# 使用 pytorch 自带的 DataLoader 定义一个数据迭代器\n",
    "train_data = DataLoader(train_set, batch_size=64, shuffle=True)\n",
    "test_data = DataLoader(test_set, batch_size=128, shuffle=False)"
   ]
  },
  {
   "cell_type": "code",
   "execution_count": null,
   "id": "db971336",
   "metadata": {},
   "outputs": [],
   "source": []
  },
  {
   "cell_type": "markdown",
   "id": "9e8c44a0",
   "metadata": {},
   "source": [
    "# 建立模型"
   ]
  },
  {
   "cell_type": "code",
   "execution_count": 6,
   "id": "3e70bc2a",
   "metadata": {},
   "outputs": [],
   "source": [
    "# 使用 Sequential 定义 4 层神经网络\n",
    "net = nn.Sequential(\n",
    "    nn.Linear(784, 400),\n",
    "    nn.ReLU(),\n",
    "    nn.Linear(400, 200),\n",
    "    nn.ReLU(),\n",
    "    nn.Linear(200, 100),\n",
    "    nn.ReLU(),\n",
    "    nn.Linear(100, 10),\n",
    ")"
   ]
  },
  {
   "cell_type": "code",
   "execution_count": 7,
   "id": "597dd529",
   "metadata": {},
   "outputs": [
    {
     "data": {
      "text/plain": [
       "Softmax(dim=None)"
      ]
     },
     "execution_count": 7,
     "metadata": {},
     "output_type": "execute_result"
    }
   ],
   "source": [
    "nn.Softmax()"
   ]
  },
  {
   "cell_type": "code",
   "execution_count": 8,
   "id": "ebf774b4",
   "metadata": {},
   "outputs": [
    {
     "data": {
      "text/plain": [
       "Sequential(\n",
       "  (0): Linear(in_features=784, out_features=400, bias=True)\n",
       "  (1): ReLU()\n",
       "  (2): Linear(in_features=400, out_features=200, bias=True)\n",
       "  (3): ReLU()\n",
       "  (4): Linear(in_features=200, out_features=100, bias=True)\n",
       "  (5): ReLU()\n",
       "  (6): Linear(in_features=100, out_features=10, bias=True)\n",
       ")"
      ]
     },
     "execution_count": 8,
     "metadata": {},
     "output_type": "execute_result"
    }
   ],
   "source": [
    "net"
   ]
  },
  {
   "cell_type": "code",
   "execution_count": null,
   "id": "45a202a8",
   "metadata": {},
   "outputs": [],
   "source": []
  },
  {
   "cell_type": "markdown",
   "id": "7df37416",
   "metadata": {},
   "source": [
    "# 定义loss和优化器"
   ]
  },
  {
   "cell_type": "code",
   "execution_count": 9,
   "id": "c1ebe816",
   "metadata": {},
   "outputs": [],
   "source": [
    "# 定义 loss 函数\n",
    "criterion = nn.CrossEntropyLoss()\n",
    "optimizer = torch.optim.SGD(net.parameters(), 1e-1) # 使用随机梯度下降，学习率 0.1"
   ]
  },
  {
   "cell_type": "code",
   "execution_count": null,
   "id": "cefce63f",
   "metadata": {},
   "outputs": [],
   "source": []
  },
  {
   "cell_type": "markdown",
   "id": "513e929f",
   "metadata": {},
   "source": [
    "# 开始训练，记录损失"
   ]
  },
  {
   "cell_type": "code",
   "execution_count": 10,
   "id": "eca9a3f4",
   "metadata": {},
   "outputs": [],
   "source": [
    "import tqdm"
   ]
  },
  {
   "cell_type": "code",
   "execution_count": 12,
   "id": "9463aaff",
   "metadata": {},
   "outputs": [
    {
     "name": "stderr",
     "output_type": "stream",
     "text": [
      "100%|████████████████████████████████████████████████████████████████████| 20/20 [00:37<00:00,  1.89s/it]\n"
     ]
    }
   ],
   "source": [
    "mean_losses = []\n",
    "mean_accs = []\n",
    "mean_eval_losses = []\n",
    "mean_eval_accs = []\n",
    "\n",
    "for epc in tqdm.tqdm(range(20)):\n",
    "    losses = []\n",
    "    accs = []\n",
    "    net.train() ## 开启训练模式。\n",
    "    for x, y in train_data:\n",
    "        y_ = net(x)\n",
    "        loss = criterion(y_, y)\n",
    "        optimizer.zero_grad() ## 梯度清空，不要累积。\n",
    "        loss.backward() ## 链式求导，反向传播。\n",
    "        optimizer.step() ## 更新参数。\n",
    "        losses.append(loss.detach().numpy())\n",
    "        accs.append(\n",
    "            np.array(\n",
    "                y == y_.max(1).indices\n",
    "            ).sum()/y.shape[0]\n",
    "        )\n",
    "        \n",
    "    mean_losses.append(np.array(losses).mean())\n",
    "    mean_accs.append(np.array(accs).mean())\n",
    "    \n",
    "\n",
    "    eval_losses = []\n",
    "    eval_accs = []\n",
    "    net.eval() ## 关闭训练模式。\n",
    "    for x, y in test_data:\n",
    "        y_ = net(x)\n",
    "        loss = criterion(y_, y)\n",
    "        eval_losses.append(loss.detach().numpy())\n",
    "        eval_accs.append(\n",
    "            np.array(\n",
    "                y == y_.max(1).indices\n",
    "            ).sum()/y.shape[0]\n",
    "        )\n",
    "    mean_eval_losses.append(np.array(eval_losses).mean())\n",
    "    mean_eval_accs.append(np.array(eval_accs).mean())"
   ]
  },
  {
   "cell_type": "code",
   "execution_count": 13,
   "id": "7c37a1de",
   "metadata": {},
   "outputs": [
    {
     "data": {
      "text/plain": [
       "[0.8670886075949367,\n",
       " 0.9591574367088608,\n",
       " 0.9418512658227848,\n",
       " 0.9478837025316456,\n",
       " 0.973496835443038,\n",
       " 0.977254746835443,\n",
       " 0.969442246835443,\n",
       " 0.9763647151898734,\n",
       " 0.9799248417721519,\n",
       " 0.9788370253164557,\n",
       " 0.9773536392405063,\n",
       " 0.9792325949367089,\n",
       " 0.9793314873417721,\n",
       " 0.9817049050632911,\n",
       " 0.9613330696202531,\n",
       " 0.9824960443037974,\n",
       " 0.9767602848101266,\n",
       " 0.9822982594936709,\n",
       " 0.9817049050632911,\n",
       " 0.9838805379746836]"
      ]
     },
     "execution_count": 13,
     "metadata": {},
     "output_type": "execute_result"
    }
   ],
   "source": [
    "mean_eval_accs"
   ]
  },
  {
   "cell_type": "code",
   "execution_count": null,
   "id": "8a4c85e9",
   "metadata": {},
   "outputs": [],
   "source": []
  },
  {
   "cell_type": "code",
   "execution_count": null,
   "id": "62c50cd6",
   "metadata": {},
   "outputs": [],
   "source": []
  },
  {
   "cell_type": "code",
   "execution_count": null,
   "id": "5a21f609",
   "metadata": {},
   "outputs": [],
   "source": []
  },
  {
   "cell_type": "code",
   "execution_count": null,
   "id": "e7d1f688",
   "metadata": {},
   "outputs": [],
   "source": []
  },
  {
   "cell_type": "code",
   "execution_count": null,
   "id": "e4ddebb8",
   "metadata": {},
   "outputs": [],
   "source": []
  },
  {
   "cell_type": "code",
   "execution_count": null,
   "id": "f68170ba",
   "metadata": {},
   "outputs": [],
   "source": []
  },
  {
   "cell_type": "code",
   "execution_count": null,
   "id": "c9b04a9b",
   "metadata": {},
   "outputs": [],
   "source": []
  },
  {
   "cell_type": "code",
   "execution_count": null,
   "id": "b69869d2",
   "metadata": {},
   "outputs": [],
   "source": []
  },
  {
   "cell_type": "code",
   "execution_count": null,
   "id": "a7e202b3",
   "metadata": {},
   "outputs": [],
   "source": []
  },
  {
   "cell_type": "code",
   "execution_count": null,
   "id": "01d9a3be",
   "metadata": {},
   "outputs": [],
   "source": []
  },
  {
   "cell_type": "code",
   "execution_count": null,
   "id": "6f0373b8",
   "metadata": {},
   "outputs": [],
   "source": []
  }
 ],
 "metadata": {
  "kernelspec": {
   "display_name": "Python 3 (ipykernel)",
   "language": "python",
   "name": "python3"
  },
  "language_info": {
   "codemirror_mode": {
    "name": "ipython",
    "version": 3
   },
   "file_extension": ".py",
   "mimetype": "text/x-python",
   "name": "python",
   "nbconvert_exporter": "python",
   "pygments_lexer": "ipython3",
   "version": "3.11.5"
  }
 },
 "nbformat": 4,
 "nbformat_minor": 5
}
