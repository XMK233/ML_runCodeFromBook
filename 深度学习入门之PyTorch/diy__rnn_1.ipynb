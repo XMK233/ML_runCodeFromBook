{
 "cells": [
  {
   "cell_type": "code",
   "execution_count": 1,
   "id": "4575b50d-f146-4059-9ed0-db5f64301330",
   "metadata": {},
   "outputs": [],
   "source": [
    "import torch\n",
    "from torch.autograd import Variable\n",
    "from torch import nn"
   ]
  },
  {
   "cell_type": "code",
   "execution_count": 2,
   "id": "9b3e0f8a-9ca0-41e6-929d-47e3d38202a8",
   "metadata": {},
   "outputs": [],
   "source": [
    "rnn_single = nn.RNNCell(input_size=100, hidden_size=200)"
   ]
  },
  {
   "cell_type": "code",
   "execution_count": 3,
   "id": "632a84a0-2ade-41de-a27d-8ca0357c0cb4",
   "metadata": {},
   "outputs": [
    {
     "data": {
      "text/plain": [
       "\u001b[0;31mSignature:\u001b[0m      \u001b[0mrnn_single\u001b[0m\u001b[0;34m(\u001b[0m\u001b[0;34m*\u001b[0m\u001b[0margs\u001b[0m\u001b[0;34m,\u001b[0m \u001b[0;34m**\u001b[0m\u001b[0mkwargs\u001b[0m\u001b[0;34m)\u001b[0m\u001b[0;34m\u001b[0m\u001b[0;34m\u001b[0m\u001b[0m\n",
       "\u001b[0;31mType:\u001b[0m           RNNCell\n",
       "\u001b[0;31mString form:\u001b[0m    RNNCell(100, 200)\n",
       "\u001b[0;31mFile:\u001b[0m           ~/Library/Python/3.9/lib/python/site-packages/torch/nn/modules/rnn.py\n",
       "\u001b[0;31mDocstring:\u001b[0m     \n",
       "An Elman RNN cell with tanh or ReLU non-linearity.\n",
       "\n",
       ".. math::\n",
       "\n",
       "    h' = \\tanh(W_{ih} x + b_{ih}  +  W_{hh} h + b_{hh})\n",
       "\n",
       "If :attr:`nonlinearity` is `'relu'`, then ReLU is used in place of tanh.\n",
       "\n",
       "Args:\n",
       "    input_size: The number of expected features in the input `x`\n",
       "    hidden_size: The number of features in the hidden state `h`\n",
       "    bias: If ``False``, then the layer does not use bias weights `b_ih` and `b_hh`.\n",
       "        Default: ``True``\n",
       "    nonlinearity: The non-linearity to use. Can be either ``'tanh'`` or ``'relu'``. Default: ``'tanh'``\n",
       "\n",
       "Inputs: input, hidden\n",
       "    - **input**: tensor containing input features\n",
       "    - **hidden**: tensor containing the initial hidden state\n",
       "      Defaults to zero if not provided.\n",
       "\n",
       "Outputs: h'\n",
       "    - **h'** of shape `(batch, hidden_size)`: tensor containing the next hidden state\n",
       "      for each element in the batch\n",
       "\n",
       "Shape:\n",
       "    - input: :math:`(N, H_{in})` or :math:`(H_{in})` tensor containing input features where\n",
       "      :math:`H_{in}` = `input_size`.\n",
       "    - hidden: :math:`(N, H_{out})` or :math:`(H_{out})` tensor containing the initial hidden\n",
       "      state where :math:`H_{out}` = `hidden_size`. Defaults to zero if not provided.\n",
       "    - output: :math:`(N, H_{out})` or :math:`(H_{out})` tensor containing the next hidden state.\n",
       "\n",
       "Attributes:\n",
       "    weight_ih: the learnable input-hidden weights, of shape\n",
       "        `(hidden_size, input_size)`\n",
       "    weight_hh: the learnable hidden-hidden weights, of shape\n",
       "        `(hidden_size, hidden_size)`\n",
       "    bias_ih: the learnable input-hidden bias, of shape `(hidden_size)`\n",
       "    bias_hh: the learnable hidden-hidden bias, of shape `(hidden_size)`\n",
       "\n",
       ".. note::\n",
       "    All the weights and biases are initialized from :math:`\\mathcal{U}(-\\sqrt{k}, \\sqrt{k})`\n",
       "    where :math:`k = \\frac{1}{\\text{hidden\\_size}}`\n",
       "\n",
       "Examples::\n",
       "\n",
       "    >>> rnn = nn.RNNCell(10, 20)\n",
       "    >>> input = torch.randn(6, 3, 10)\n",
       "    >>> hx = torch.randn(3, 20)\n",
       "    >>> output = []\n",
       "    >>> for i in range(6):\n",
       "    ...     hx = rnn(input[i], hx)\n",
       "    ...     output.append(hx)\n",
       "\u001b[0;31mInit docstring:\u001b[0m Initialize internal Module state, shared by both nn.Module and ScriptModule."
      ]
     },
     "metadata": {},
     "output_type": "display_data"
    }
   ],
   "source": [
    "rnn_single?"
   ]
  },
  {
   "cell_type": "code",
   "execution_count": null,
   "id": "1765a98a-63be-4c8a-9a81-0d125bd5ff87",
   "metadata": {},
   "outputs": [],
   "source": []
  }
 ],
 "metadata": {
  "kernelspec": {
   "display_name": "Python 3 (ipykernel)",
   "language": "python",
   "name": "python3"
  },
  "language_info": {
   "codemirror_mode": {
    "name": "ipython",
    "version": 3
   },
   "file_extension": ".py",
   "mimetype": "text/x-python",
   "name": "python",
   "nbconvert_exporter": "python",
   "pygments_lexer": "ipython3",
   "version": "3.9.6"
  }
 },
 "nbformat": 4,
 "nbformat_minor": 5
}
