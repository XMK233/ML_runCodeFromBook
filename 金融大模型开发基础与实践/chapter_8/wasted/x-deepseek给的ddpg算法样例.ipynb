{
 "cells": [
  {
   "cell_type": "code",
   "execution_count": 1,
   "id": "6a8ece1a-f3d9-4d8c-8642-0711c427634a",
   "metadata": {},
   "outputs": [],
   "source": [
    "import torch\n",
    "import torch.nn as nn\n",
    "import torch.optim as optim\n",
    "import numpy as np\n",
    "import random\n",
    "from collections import deque"
   ]
  },
  {
   "cell_type": "code",
   "execution_count": 2,
   "id": "74404471-acd8-4696-bcbd-bdf9bbf15162",
   "metadata": {},
   "outputs": [],
   "source": [
    "# 设备配置\n",
    "device = torch.device(\"mps\")"
   ]
  },
  {
   "cell_type": "code",
   "execution_count": 3,
   "id": "1de419dd-44d2-4902-a05a-100b671f6246",
   "metadata": {},
   "outputs": [],
   "source": [
    "# 定义Actor网络（策略网络）\n",
    "class Actor(nn.Module):\n",
    "    def __init__(self, state_dim, action_dim, max_action):\n",
    "        super(Actor, self).__init__()\n",
    "        self.layer = nn.Sequential(\n",
    "            nn.Linear(state_dim, 400),\n",
    "            nn.ReLU(),\n",
    "            nn.Linear(400, 300),\n",
    "            nn.ReLU(),\n",
    "            nn.Linear(300, action_dim),\n",
    "            nn.Tanh()  # 输出范围[-1,1]\n",
    "        )\n",
    "        self.max_action = max_action\n",
    "\n",
    "    def forward(self, state):\n",
    "        return self.max_action * self.layer(state)"
   ]
  },
  {
   "cell_type": "code",
   "execution_count": 4,
   "id": "670454fc-3dd0-4669-86f2-78d97eb9f79d",
   "metadata": {},
   "outputs": [],
   "source": [
    "# 定义Critic网络（价值网络）\n",
    "class Critic(nn.Module):\n",
    "    def __init__(self, state_dim, action_dim):\n",
    "        super(Critic, self).__init__()\n",
    "        self.net = nn.Sequential(\n",
    "            nn.Linear(state_dim + action_dim, 400),\n",
    "            nn.ReLU(),\n",
    "            nn.Linear(400, 300),\n",
    "            nn.ReLU(),\n",
    "            nn.Linear(300, 1)\n",
    "        )\n",
    "\n",
    "    def forward(self, state, action):\n",
    "        return self.net(torch.cat([state, action], 1))"
   ]
  },
  {
   "cell_type": "code",
   "execution_count": null,
   "id": "98358738-1651-478a-b155-712ec469989b",
   "metadata": {},
   "outputs": [],
   "source": []
  },
  {
   "cell_type": "code",
   "execution_count": 13,
   "id": "b7491ddd-7d6c-49cb-88ad-80dcc670161e",
   "metadata": {},
   "outputs": [
    {
     "name": "stdout",
     "output_type": "stream",
     "text": [
      "(1, 6)\n",
      "(2, 7)\n",
      "(3, 8)\n",
      "(4, 9)\n",
      "(5, 10)\n"
     ]
    }
   ],
   "source": [
    "for x in zip(\n",
    "    *[\n",
    "        [1,2,3,4,5],\n",
    "        [6,7,8,9,10]\n",
    "    ]\n",
    "):\n",
    "    print(x)"
   ]
  },
  {
   "cell_type": "code",
   "execution_count": null,
   "id": "80eb0a6d-45e6-41a2-8179-261e2408fcc9",
   "metadata": {},
   "outputs": [],
   "source": []
  },
  {
   "cell_type": "code",
   "execution_count": null,
   "id": "492ec319-8193-4340-8948-c22967b62871",
   "metadata": {},
   "outputs": [],
   "source": []
  },
  {
   "cell_type": "code",
   "execution_count": 5,
   "id": "e3f47e3a-719d-489c-8efc-abd6e58c8573",
   "metadata": {},
   "outputs": [],
   "source": [
    "# DDPG算法实现\n",
    "class DDPG:\n",
    "    def __init__(self, state_dim, action_dim, max_action):\n",
    "        # 在线网络\n",
    "        self.actor = Actor(state_dim, action_dim, max_action).to(device)\n",
    "        self.critic = Critic(state_dim, action_dim).to(device)\n",
    "        \n",
    "        # 目标网络\n",
    "        self.actor_target = Actor(state_dim, action_dim, max_action).to(device)\n",
    "        self.critic_target = Critic(state_dim, action_dim).to(device)\n",
    "        \n",
    "        # 同步目标网络参数\n",
    "        self.actor_target.load_state_dict(self.actor.state_dict())\n",
    "        self.critic_target.load_state_dict(self.critic.state_dict())\n",
    "        \n",
    "        # 优化器\n",
    "        self.actor_optimizer = optim.Adam(self.actor.parameters(), lr=1e-4)\n",
    "        self.critic_optimizer = optim.Adam(self.critic.parameters(), lr=1e-3)\n",
    "        \n",
    "        # 经验回放缓冲区\n",
    "        self.replay_buffer = deque(maxlen=1000000) ## 双端队列。\n",
    "        \n",
    "        # 超参数\n",
    "        self.gamma = 0.99      # 折扣因子\n",
    "        self.tau = 0.005       # 软更新系数\n",
    "        self.batch_size = 100  # 批量大小\n",
    "\n",
    "    def select_action(self, state, noise_scale=0.1):\n",
    "        state = torch.FloatTensor(state).to(device)\n",
    "        action = self.actor(state).cpu().data.numpy()\n",
    "        # 添加探索噪声\n",
    "        action += np.random.normal(\n",
    "            0, ## 可以理解为均值。\n",
    "            noise_scale, ## 可以理解为标准差。\n",
    "            size=action.shape\n",
    "        )\n",
    "        return np.clip(\n",
    "            action, \n",
    "            -self.actor.max_action, ## 【TODO】暂时没搞懂这个max_action是咩哇意思。\n",
    "            self.actor.max_action\n",
    "        )\n",
    "\n",
    "    def store_transition(self, state, action, reward, next_state, done):\n",
    "        self.replay_buffer.append((state, action, reward, next_state, done))\n",
    "\n",
    "    def train(self):\n",
    "        if len(self.replay_buffer) < self.batch_size:\n",
    "            return\n",
    "        \n",
    "        # 从缓冲区采样\n",
    "        ## 不过这些个batch，都是随机采的。\n",
    "        batch = random.sample(self.replay_buffer, self.batch_size)\n",
    "\n",
    "        ## 这里的，比如说state，就是一个batch里面所有的state组成的数组；\n",
    "        ## action就是一个batch里所有的action组成的数组。\n",
    "        ## 以此类推。\n",
    "        state, action, reward, next_state, done = zip(*batch)\n",
    "        \n",
    "        state = torch.FloatTensor(np.array(state)).to(device)\n",
    "        action = torch.FloatTensor(np.array(action)).to(device)\n",
    "        reward = torch.FloatTensor(reward).unsqueeze(1).to(device)\n",
    "        next_state = torch.FloatTensor(np.array(next_state)).to(device)\n",
    "        done = torch.FloatTensor(done).unsqueeze(1).to(device)\n",
    "\n",
    "        # 计算目标Q值\n",
    "        next_action = self.actor_target(next_state)\n",
    "        target_Q = self.critic_target(next_state, next_action)\n",
    "        target_Q = reward + (1 - done) * self.gamma * target_Q.detach()\n",
    "\n",
    "        # 更新Critic网络\n",
    "        current_Q = self.critic(state, action)\n",
    "        critic_loss = nn.MSELoss()(current_Q, target_Q)\n",
    "        \n",
    "        self.critic_optimizer.zero_grad()\n",
    "        critic_loss.backward()\n",
    "        self.critic_optimizer.step()\n",
    "\n",
    "        # 更新Actor网络\n",
    "        actor_loss = -self.critic(state, self.actor(state)).mean()\n",
    "        \n",
    "        self.actor_optimizer.zero_grad()\n",
    "        actor_loss.backward()\n",
    "        self.actor_optimizer.step()\n",
    "\n",
    "        # 软更新目标网络\n",
    "        for param, target_param in zip(self.critic.parameters(), self.critic_target.parameters()):\n",
    "            target_param.data.copy_(self.tau * param.data + (1 - self.tau) * target_param.data)\n",
    "        \n",
    "        for param, target_param in zip(self.actor.parameters(), self.actor_target.parameters()):\n",
    "            target_param.data.copy_(self.tau * param.data + (1 - self.tau) * target_param.data)\n",
    "\n"
   ]
  },
  {
   "cell_type": "code",
   "execution_count": 7,
   "id": "41932716-53b8-4d45-afbe-6ec413259b3e",
   "metadata": {},
   "outputs": [
    {
     "ename": "NameError",
     "evalue": "name 'YourEnvironment' is not defined",
     "output_type": "error",
     "traceback": [
      "\u001b[0;31m---------------------------------------------------------------------------\u001b[0m",
      "\u001b[0;31mNameError\u001b[0m                                 Traceback (most recent call last)",
      "Cell \u001b[0;32mIn[7], line 2\u001b[0m\n\u001b[1;32m      1\u001b[0m \u001b[38;5;66;03m# 使用示例\u001b[39;00m\n\u001b[0;32m----> 2\u001b[0m env \u001b[38;5;241m=\u001b[39m \u001b[43mYourEnvironment\u001b[49m()  \u001b[38;5;66;03m# 需要用户自定义环境\u001b[39;00m\n\u001b[1;32m      3\u001b[0m ddpg \u001b[38;5;241m=\u001b[39m DDPG(state_dim\u001b[38;5;241m=\u001b[39menv\u001b[38;5;241m.\u001b[39mobservation_space\u001b[38;5;241m.\u001b[39mshape[\u001b[38;5;241m0\u001b[39m],\n\u001b[1;32m      4\u001b[0m            action_dim\u001b[38;5;241m=\u001b[39menv\u001b[38;5;241m.\u001b[39maction_space\u001b[38;5;241m.\u001b[39mshape[\u001b[38;5;241m0\u001b[39m],\n\u001b[1;32m      5\u001b[0m            max_action\u001b[38;5;241m=\u001b[39menv\u001b[38;5;241m.\u001b[39maction_space\u001b[38;5;241m.\u001b[39mhigh[\u001b[38;5;241m0\u001b[39m])\n\u001b[1;32m      7\u001b[0m \u001b[38;5;28;01mfor\u001b[39;00m episode \u001b[38;5;129;01min\u001b[39;00m \u001b[38;5;28mrange\u001b[39m(\u001b[38;5;241m1000\u001b[39m):\n",
      "\u001b[0;31mNameError\u001b[0m: name 'YourEnvironment' is not defined"
     ]
    }
   ],
   "source": [
    "# 使用示例\n",
    "env = YourEnvironment()  # 需要用户自定义环境\n",
    "ddpg = DDPG(state_dim=env.observation_space.shape[0],\n",
    "           action_dim=env.action_space.shape[0],\n",
    "           max_action=env.action_space.high[0])\n",
    "\n",
    "for episode in range(1000):\n",
    "    state = env.reset()\n",
    "    episode_reward = 0\n",
    "    while True:\n",
    "        action = ddpg.select_action(state) ## 用self.actor来选择动作。\n",
    "        next_state, reward, done, _ = env.step(action) ## 然后实行动作。\n",
    "        ddpg.store_transition(state, action, reward, next_state, done) ## 然后把实行的动作给它存起来。用来训练。\n",
    "        ddpg.train() ## 拿存好的动作，来训练。\n",
    "        episode_reward += reward\n",
    "        state = next_state\n",
    "        if done:\n",
    "            break"
   ]
  },
  {
   "cell_type": "code",
   "execution_count": null,
   "id": "68303a4d-ee4a-41ba-a43b-9bd50dd299e4",
   "metadata": {},
   "outputs": [],
   "source": []
  }
 ],
 "metadata": {
  "kernelspec": {
   "display_name": "Python 3 (ipykernel)",
   "language": "python",
   "name": "python3"
  },
  "language_info": {
   "codemirror_mode": {
    "name": "ipython",
    "version": 3
   },
   "file_extension": ".py",
   "mimetype": "text/x-python",
   "name": "python",
   "nbconvert_exporter": "python",
   "pygments_lexer": "ipython3",
   "version": "3.11.11"
  }
 },
 "nbformat": 4,
 "nbformat_minor": 5
}
