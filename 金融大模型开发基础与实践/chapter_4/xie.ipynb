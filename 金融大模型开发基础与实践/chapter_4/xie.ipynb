{
 "cells": [
  {
   "cell_type": "code",
   "execution_count": 1,
   "id": "8f153c87-a54c-4b43-a127-6033b376667c",
   "metadata": {},
   "outputs": [],
   "source": [
    "import tushare as ts\n",
    "import pandas as pd\n",
    "import numpy as np\n",
    "import statsmodels.api as sm\n",
    "import matplotlib.pyplot as plt\n",
    "plt.rcParams[\"font.sans-serif\"] = [\"SimHei\"] # 设置字体\n",
    "plt.rcParams[\"axes.unicode_minus\"] = False # 该语句解决图像中的“-”负号的乱码问题"
   ]
  },
  {
   "cell_type": "code",
   "execution_count": 2,
   "id": "f4ce60fd-d8e4-4833-baaf-45ebc62247dd",
   "metadata": {},
   "outputs": [],
   "source": [
    "# 设置TuShare的token，需要提前在TuShare官网注册并获取token\n",
    "token = \"53b6254438e6d307b6799dbd575883528bc1da912f3d6a31159ecc9e\"\n",
    "ts.set_token(token)\n",
    "\n",
    "# 初始化Tushare客户端\n",
    "pro = ts.pro_api()"
   ]
  },
  {
   "cell_type": "code",
   "execution_count": 3,
   "id": "c33bc9b0-04e0-42f2-94ba-10c8dd671b85",
   "metadata": {},
   "outputs": [],
   "source": [
    "# 获取比亚迪（002594.SZ）和中际旭创（300308.SZ）的历史日线数据\n",
    "byd_data = pro.daily(ts_code='002594.SZ', start_date='20200101', end_date='20211231')\n",
    "zjxc_data = pro.daily(ts_code='300308.SZ', start_date='20200101', end_date='20211231')"
   ]
  },
  {
   "cell_type": "code",
   "execution_count": 4,
   "id": "6b6ed4d4-f6fe-4bdc-9c7c-77bc6a33500e",
   "metadata": {},
   "outputs": [],
   "source": [
    "# 提取收盘价数据\n",
    "byd_close = byd_data['close']\n",
    "zjxc_close = zjxc_data['close']"
   ]
  },
  {
   "cell_type": "code",
   "execution_count": 5,
   "id": "4c045df0-8830-46de-a27d-1b455e59d2cc",
   "metadata": {},
   "outputs": [
    {
     "data": {
      "text/html": [
       "<div>\n",
       "<style scoped>\n",
       "    .dataframe tbody tr th:only-of-type {\n",
       "        vertical-align: middle;\n",
       "    }\n",
       "\n",
       "    .dataframe tbody tr th {\n",
       "        vertical-align: top;\n",
       "    }\n",
       "\n",
       "    .dataframe thead th {\n",
       "        text-align: right;\n",
       "    }\n",
       "</style>\n",
       "<table border=\"1\" class=\"dataframe\">\n",
       "  <thead>\n",
       "    <tr style=\"text-align: right;\">\n",
       "      <th></th>\n",
       "      <th>BYD</th>\n",
       "      <th>ZJXC</th>\n",
       "    </tr>\n",
       "  </thead>\n",
       "  <tbody>\n",
       "    <tr>\n",
       "      <th>0</th>\n",
       "      <td>268.12</td>\n",
       "      <td>42.50</td>\n",
       "    </tr>\n",
       "    <tr>\n",
       "      <th>1</th>\n",
       "      <td>267.13</td>\n",
       "      <td>43.39</td>\n",
       "    </tr>\n",
       "    <tr>\n",
       "      <th>2</th>\n",
       "      <td>269.00</td>\n",
       "      <td>43.00</td>\n",
       "    </tr>\n",
       "    <tr>\n",
       "      <th>3</th>\n",
       "      <td>270.85</td>\n",
       "      <td>42.50</td>\n",
       "    </tr>\n",
       "    <tr>\n",
       "      <th>4</th>\n",
       "      <td>267.03</td>\n",
       "      <td>42.22</td>\n",
       "    </tr>\n",
       "    <tr>\n",
       "      <th>...</th>\n",
       "      <td>...</td>\n",
       "      <td>...</td>\n",
       "    </tr>\n",
       "    <tr>\n",
       "      <th>481</th>\n",
       "      <td>47.28</td>\n",
       "      <td>51.08</td>\n",
       "    </tr>\n",
       "    <tr>\n",
       "      <th>482</th>\n",
       "      <td>48.05</td>\n",
       "      <td>52.42</td>\n",
       "    </tr>\n",
       "    <tr>\n",
       "      <th>483</th>\n",
       "      <td>48.28</td>\n",
       "      <td>52.03</td>\n",
       "    </tr>\n",
       "    <tr>\n",
       "      <th>484</th>\n",
       "      <td>48.04</td>\n",
       "      <td>52.88</td>\n",
       "    </tr>\n",
       "    <tr>\n",
       "      <th>485</th>\n",
       "      <td>48.17</td>\n",
       "      <td>53.45</td>\n",
       "    </tr>\n",
       "  </tbody>\n",
       "</table>\n",
       "<p>486 rows × 2 columns</p>\n",
       "</div>"
      ],
      "text/plain": [
       "        BYD   ZJXC\n",
       "0    268.12  42.50\n",
       "1    267.13  43.39\n",
       "2    269.00  43.00\n",
       "3    270.85  42.50\n",
       "4    267.03  42.22\n",
       "..      ...    ...\n",
       "481   47.28  51.08\n",
       "482   48.05  52.42\n",
       "483   48.28  52.03\n",
       "484   48.04  52.88\n",
       "485   48.17  53.45\n",
       "\n",
       "[486 rows x 2 columns]"
      ]
     },
     "execution_count": 5,
     "metadata": {},
     "output_type": "execute_result"
    }
   ],
   "source": [
    "# 合并两只股票的收盘价数据\n",
    "data = pd.concat([byd_close, zjxc_close], axis=1)\n",
    "data.columns = ['BYD', 'ZJXC']\n",
    "data"
   ]
  },
  {
   "cell_type": "code",
   "execution_count": 6,
   "id": "1f8f415c-80d1-4df7-a833-65c39b3bc1c8",
   "metadata": {},
   "outputs": [],
   "source": [
    "# 进行协整合分析\n",
    "model = sm.OLS(data['BYD'], sm.add_constant(data['ZJXC'])).fit()\n",
    "spread = data['BYD'] - model.params['ZJXC'] * data['ZJXC'] - model.params['const']"
   ]
  },
  {
   "cell_type": "code",
   "execution_count": 7,
   "id": "c9b4d2c9-251a-4e8e-9bb4-0d954854a046",
   "metadata": {},
   "outputs": [],
   "source": [
    "# 计算协整关系的ADF检验统计量\n",
    "adf_statistic = sm.tsa.adfuller(spread, maxlag=1)[0]"
   ]
  },
  {
   "cell_type": "code",
   "execution_count": 8,
   "id": "23e48c70-79ee-4c0b-87bd-f06965850463",
   "metadata": {},
   "outputs": [],
   "source": [
    "# 设置显著性水平\n",
    "alpha = 0.05"
   ]
  },
  {
   "cell_type": "code",
   "execution_count": null,
   "id": "a532c232-7c2b-46d4-9739-f68b279b44ed",
   "metadata": {},
   "outputs": [],
   "source": []
  },
  {
   "cell_type": "code",
   "execution_count": 16,
   "id": "bef460f2-9949-42c8-b4e3-6dc9e21a0c15",
   "metadata": {},
   "outputs": [],
   "source": [
    "from matplotlib.font_manager import FontProperties\n",
    "font = FontProperties(fname=\"/Users/minkexiu/Documents/GitHub/ML_Tryout/SimHei.ttf\", size=24)  "
   ]
  },
  {
   "cell_type": "code",
   "execution_count": null,
   "id": "81853387-ca72-4c5f-aded-a588dccdb293",
   "metadata": {},
   "outputs": [],
   "source": []
  },
  {
   "cell_type": "code",
   "execution_count": 17,
   "id": "9e7942f7-9afa-449f-8230-016d1209dc81",
   "metadata": {},
   "outputs": [
    {
     "name": "stderr",
     "output_type": "stream",
     "text": [
      "findfont: Generic family 'sans-serif' not found because none of the following families were found: SimHei\n",
      "findfont: Generic family 'sans-serif' not found because none of the following families were found: SimHei\n",
      "findfont: Generic family 'sans-serif' not found because none of the following families were found: SimHei\n",
      "findfont: Generic family 'sans-serif' not found because none of the following families were found: SimHei\n",
      "findfont: Generic family 'sans-serif' not found because none of the following families were found: SimHei\n",
      "findfont: Generic family 'sans-serif' not found because none of the following families were found: SimHei\n",
      "findfont: Generic family 'sans-serif' not found because none of the following families were found: SimHei\n",
      "findfont: Generic family 'sans-serif' not found because none of the following families were found: SimHei\n",
      "/opt/anaconda3/envs/ml12/lib/python3.12/site-packages/IPython/core/pylabtools.py:152: UserWarning: Glyph 32047 (\\N{CJK UNIFIED IDEOGRAPH-7D2F}) missing from current font.\n",
      "  fig.canvas.print_figure(bytes_io, **kw)\n",
      "/opt/anaconda3/envs/ml12/lib/python3.12/site-packages/IPython/core/pylabtools.py:152: UserWarning: Glyph 31215 (\\N{CJK UNIFIED IDEOGRAPH-79EF}) missing from current font.\n",
      "  fig.canvas.print_figure(bytes_io, **kw)\n",
      "/opt/anaconda3/envs/ml12/lib/python3.12/site-packages/IPython/core/pylabtools.py:152: UserWarning: Glyph 24046 (\\N{CJK UNIFIED IDEOGRAPH-5DEE}) missing from current font.\n",
      "  fig.canvas.print_figure(bytes_io, **kw)\n",
      "/opt/anaconda3/envs/ml12/lib/python3.12/site-packages/IPython/core/pylabtools.py:152: UserWarning: Glyph 20215 (\\N{CJK UNIFIED IDEOGRAPH-4EF7}) missing from current font.\n",
      "  fig.canvas.print_figure(bytes_io, **kw)\n",
      "findfont: Generic family 'sans-serif' not found because none of the following families were found: SimHei\n",
      "findfont: Generic family 'sans-serif' not found because none of the following families were found: SimHei\n",
      "/opt/anaconda3/envs/ml12/lib/python3.12/site-packages/IPython/core/pylabtools.py:152: UserWarning: Glyph 27604 (\\N{CJK UNIFIED IDEOGRAPH-6BD4}) missing from current font.\n",
      "  fig.canvas.print_figure(bytes_io, **kw)\n",
      "/opt/anaconda3/envs/ml12/lib/python3.12/site-packages/IPython/core/pylabtools.py:152: UserWarning: Glyph 20122 (\\N{CJK UNIFIED IDEOGRAPH-4E9A}) missing from current font.\n",
      "  fig.canvas.print_figure(bytes_io, **kw)\n",
      "/opt/anaconda3/envs/ml12/lib/python3.12/site-packages/IPython/core/pylabtools.py:152: UserWarning: Glyph 36842 (\\N{CJK UNIFIED IDEOGRAPH-8FEA}) missing from current font.\n",
      "  fig.canvas.print_figure(bytes_io, **kw)\n",
      "/opt/anaconda3/envs/ml12/lib/python3.12/site-packages/IPython/core/pylabtools.py:152: UserWarning: Glyph 21644 (\\N{CJK UNIFIED IDEOGRAPH-548C}) missing from current font.\n",
      "  fig.canvas.print_figure(bytes_io, **kw)\n",
      "/opt/anaconda3/envs/ml12/lib/python3.12/site-packages/IPython/core/pylabtools.py:152: UserWarning: Glyph 20013 (\\N{CJK UNIFIED IDEOGRAPH-4E2D}) missing from current font.\n",
      "  fig.canvas.print_figure(bytes_io, **kw)\n",
      "/opt/anaconda3/envs/ml12/lib/python3.12/site-packages/IPython/core/pylabtools.py:152: UserWarning: Glyph 38469 (\\N{CJK UNIFIED IDEOGRAPH-9645}) missing from current font.\n",
      "  fig.canvas.print_figure(bytes_io, **kw)\n",
      "/opt/anaconda3/envs/ml12/lib/python3.12/site-packages/IPython/core/pylabtools.py:152: UserWarning: Glyph 26093 (\\N{CJK UNIFIED IDEOGRAPH-65ED}) missing from current font.\n",
      "  fig.canvas.print_figure(bytes_io, **kw)\n",
      "/opt/anaconda3/envs/ml12/lib/python3.12/site-packages/IPython/core/pylabtools.py:152: UserWarning: Glyph 21019 (\\N{CJK UNIFIED IDEOGRAPH-521B}) missing from current font.\n",
      "  fig.canvas.print_figure(bytes_io, **kw)\n",
      "/opt/anaconda3/envs/ml12/lib/python3.12/site-packages/IPython/core/pylabtools.py:152: UserWarning: Glyph 21327 (\\N{CJK UNIFIED IDEOGRAPH-534F}) missing from current font.\n",
      "  fig.canvas.print_figure(bytes_io, **kw)\n",
      "/opt/anaconda3/envs/ml12/lib/python3.12/site-packages/IPython/core/pylabtools.py:152: UserWarning: Glyph 25972 (\\N{CJK UNIFIED IDEOGRAPH-6574}) missing from current font.\n",
      "  fig.canvas.print_figure(bytes_io, **kw)\n",
      "/opt/anaconda3/envs/ml12/lib/python3.12/site-packages/IPython/core/pylabtools.py:152: UserWarning: Glyph 20851 (\\N{CJK UNIFIED IDEOGRAPH-5173}) missing from current font.\n",
      "  fig.canvas.print_figure(bytes_io, **kw)\n",
      "/opt/anaconda3/envs/ml12/lib/python3.12/site-packages/IPython/core/pylabtools.py:152: UserWarning: Glyph 31995 (\\N{CJK UNIFIED IDEOGRAPH-7CFB}) missing from current font.\n",
      "  fig.canvas.print_figure(bytes_io, **kw)\n",
      "findfont: Generic family 'sans-serif' not found because none of the following families were found: SimHei\n",
      "findfont: Generic family 'sans-serif' not found because none of the following families were found: SimHei\n",
      "findfont: Generic family 'sans-serif' not found because none of the following families were found: SimHei\n",
      "findfont: Generic family 'sans-serif' not found because none of the following families were found: SimHei\n",
      "findfont: Generic family 'sans-serif' not found because none of the following families were found: SimHei\n",
      "findfont: Generic family 'sans-serif' not found because none of the following families were found: SimHei\n",
      "/opt/anaconda3/envs/ml12/lib/python3.12/site-packages/IPython/core/pylabtools.py:152: UserWarning: Glyph 26085 (\\N{CJK UNIFIED IDEOGRAPH-65E5}) missing from current font.\n",
      "  fig.canvas.print_figure(bytes_io, **kw)\n",
      "/opt/anaconda3/envs/ml12/lib/python3.12/site-packages/IPython/core/pylabtools.py:152: UserWarning: Glyph 26399 (\\N{CJK UNIFIED IDEOGRAPH-671F}) missing from current font.\n",
      "  fig.canvas.print_figure(bytes_io, **kw)\n",
      "findfont: Generic family 'sans-serif' not found because none of the following families were found: SimHei\n",
      "findfont: Generic family 'sans-serif' not found because none of the following families were found: SimHei\n",
      "findfont: Generic family 'sans-serif' not found because none of the following families were found: SimHei\n",
      "findfont: Generic family 'sans-serif' not found because none of the following families were found: SimHei\n",
      "findfont: Generic family 'sans-serif' not found because none of the following families were found: SimHei\n",
      "findfont: Generic family 'sans-serif' not found because none of the following families were found: SimHei\n",
      "findfont: Generic family 'sans-serif' not found because none of the following families were found: SimHei\n",
      "findfont: Generic family 'sans-serif' not found because none of the following families were found: SimHei\n",
      "findfont: Generic family 'sans-serif' not found because none of the following families were found: SimHei\n",
      "findfont: Generic family 'sans-serif' not found because none of the following families were found: SimHei\n",
      "findfont: Generic family 'sans-serif' not found because none of the following families were found: SimHei\n",
      "findfont: Generic family 'sans-serif' not found because none of the following families were found: SimHei\n",
      "findfont: Generic family 'sans-serif' not found because none of the following families were found: SimHei\n",
      "findfont: Generic family 'sans-serif' not found because none of the following families were found: SimHei\n",
      "findfont: Generic family 'sans-serif' not found because none of the following families were found: SimHei\n",
      "findfont: Generic family 'sans-serif' not found because none of the following families were found: SimHei\n",
      "findfont: Generic family 'sans-serif' not found because none of the following families were found: SimHei\n",
      "findfont: Generic family 'sans-serif' not found because none of the following families were found: SimHei\n",
      "findfont: Generic family 'sans-serif' not found because none of the following families were found: SimHei\n",
      "findfont: Generic family 'sans-serif' not found because none of the following families were found: SimHei\n",
      "findfont: Generic family 'sans-serif' not found because none of the following families were found: SimHei\n",
      "findfont: Generic family 'sans-serif' not found because none of the following families were found: SimHei\n",
      "findfont: Generic family 'sans-serif' not found because none of the following families were found: SimHei\n",
      "findfont: Generic family 'sans-serif' not found because none of the following families were found: SimHei\n",
      "findfont: Generic family 'sans-serif' not found because none of the following families were found: SimHei\n",
      "findfont: Generic family 'sans-serif' not found because none of the following families were found: SimHei\n",
      "findfont: Generic family 'sans-serif' not found because none of the following families were found: SimHei\n",
      "findfont: Generic family 'sans-serif' not found because none of the following families were found: SimHei\n",
      "findfont: Generic family 'sans-serif' not found because none of the following families were found: SimHei\n",
      "findfont: Generic family 'sans-serif' not found because none of the following families were found: SimHei\n",
      "findfont: Generic family 'sans-serif' not found because none of the following families were found: SimHei\n"
     ]
    },
    {
     "name": "stdout",
     "output_type": "stream",
     "text": [
      "不存在协整关系或ZJXC不是比亚迪的领先指标\n",
      "协整关系检验ADF统计量: -2.370578419902043\n",
      "OLS回归参数：\n",
      "const    472.497598\n",
      "ZJXC      -6.312554\n",
      "dtype: float64\n"
     ]
    },
    {
     "data": {
      "image/png": "[encoded data removed]",
      "text/plain": [
       "<Figure size 1200x600 with 1 Axes>"
      ]
     },
     "metadata": {},
     "output_type": "display_data"
    }
   ],
   "source": [
    "# 输出协整关系检验结果\n",
    "if adf_statistic < sm.tsa.adfuller(spread, maxlag=1)[4]['5%'] and model.params['ZJXC'] < 0:\n",
    "    print(\"存在协整关系，且ZJXC为比亚迪的领先指标\")\n",
    "    print(\"协整关系检验ADF统计量:\", adf_statistic)\n",
    "    print(\"OLS回归参数：\")\n",
    "    print(model.params)\n",
    "else:\n",
    "    print(\"不存在协整关系或ZJXC不是比亚迪的领先指标\")\n",
    "    print(\"协整关系检验ADF统计量:\", adf_statistic)\n",
    "    print(\"OLS回归参数：\")\n",
    "    print(model.params)\n",
    " \n",
    "# 绘制收益曲线\n",
    "plt.figure(figsize=(12, 6))\n",
    "plt.plot(data.index, np.cumsum(spread), label='Cumulative Spread')\n",
    "plt.xlabel('日期')\n",
    "plt.ylabel('累积差价')\n",
    "plt.title('比亚迪和中际旭创协整关系')\n",
    "plt.legend()\n",
    "plt.grid(True)\n",
    "plt.show()\n"
   ]
  },
  {
   "cell_type": "code",
   "execution_count": null,
   "id": "4c0f60bc-4b91-4376-b1a1-86d1a1ee7918",
   "metadata": {},
   "outputs": [],
   "source": []
  }
 ],
 "metadata": {
  "kernelspec": {
   "display_name": "Python 3 (ipykernel)",
   "language": "python",
   "name": "python3"
  },
  "language_info": {
   "codemirror_mode": {
    "name": "ipython",
    "version": 3
   },
   "file_extension": ".py",
   "mimetype": "text/x-python",
   "name": "python",
   "nbconvert_exporter": "python",
   "pygments_lexer": "ipython3",
   "version": "3.12.0"
  }
 },
 "nbformat": 4,
 "nbformat_minor": 5
}
